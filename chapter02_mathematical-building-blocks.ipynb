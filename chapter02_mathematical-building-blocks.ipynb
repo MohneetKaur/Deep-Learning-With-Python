{
  "cells": [
    {
      "cell_type": "markdown",
      "metadata": {
        "id": "g03YUhQM1VN2"
      },
      "source": [
        "This is a companion notebook for the book [Deep Learning with Python, Second Edition](https://www.manning.com/books/deep-learning-with-python-second-edition?a_aid=keras&a_bid=76564dff). For readability, it only contains runnable code blocks and section titles, and omits everything else in the book: text paragraphs, figures, and pseudocode.\n",
        "\n",
        "**If you want to be able to follow what's going on, I recommend reading the notebook side by side with your copy of the book.**\n",
        "\n",
        "This notebook was generated for TensorFlow 2.6."
      ]
    },
    {
      "cell_type": "markdown",
      "metadata": {
        "id": "Ub2s-oOG1VN5"
      },
      "source": [
        "# The mathematical building blocks of neural networks"
      ]
    },
    {
      "cell_type": "markdown",
      "metadata": {
        "id": "DIli1QFW1VN7"
      },
      "source": [
        "## A first look at a neural network"
      ]
    },
    {
      "cell_type": "markdown",
      "metadata": {
        "id": "yhwshsyw1VN8"
      },
      "source": [
        "**Loading the MNIST dataset in Keras**"
      ]
    },
    {
      "cell_type": "code",
      "execution_count": null,
      "metadata": {
        "id": "o5fxP_gb1VN9"
      },
      "outputs": [],
      "source": [
        "from tensorflow.keras.datasets import mnist\n",
        "(train_images, train_labels), (test_images, test_labels) = mnist.load_data()"
      ]
    },
    {
      "cell_type": "code",
      "execution_count": null,
      "metadata": {
        "id": "bb2qALX91VN_"
      },
      "outputs": [],
      "source": [
        "train_images.shape"
      ]
    },
    {
      "cell_type": "code",
      "execution_count": null,
      "metadata": {
        "id": "nx4L4ySb1VOA"
      },
      "outputs": [],
      "source": [
        "len(train_labels)"
      ]
    },
    {
      "cell_type": "code",
      "execution_count": null,
      "metadata": {
        "id": "rr5TiZzk1VOB"
      },
      "outputs": [],
      "source": [
        "train_labels"
      ]
    },
    {
      "cell_type": "code",
      "execution_count": null,
      "metadata": {
        "id": "C6Kd8A7U1VOC"
      },
      "outputs": [],
      "source": [
        "test_images.shape"
      ]
    },
    {
      "cell_type": "code",
      "execution_count": null,
      "metadata": {
        "id": "C4gBDupX1VOC"
      },
      "outputs": [],
      "source": [
        "len(test_labels)"
      ]
    },
    {
      "cell_type": "code",
      "execution_count": null,
      "metadata": {
        "id": "rzBrCpzi1VOD"
      },
      "outputs": [],
      "source": [
        "test_labels"
      ]
    },
    {
      "cell_type": "markdown",
      "metadata": {
        "id": "MvKelxBU1VOD"
      },
      "source": [
        "**The network architecture**"
      ]
    },
    {
      "cell_type": "code",
      "execution_count": null,
      "metadata": {
        "id": "cPCRblbo1VOE"
      },
      "outputs": [],
      "source": [
        "from tensorflow import keras\n",
        "from tensorflow.keras import layers\n",
        "model = keras.Sequential([\n",
        "    layers.Dense(512, activation=\"relu\"),\n",
        "    layers.Dense(10, activation=\"softmax\")\n",
        "])"
      ]
    },
    {
      "cell_type": "markdown",
      "metadata": {
        "id": "DnJdJnJ-1VOF"
      },
      "source": [
        "**The compilation step**"
      ]
    },
    {
      "cell_type": "code",
      "execution_count": null,
      "metadata": {
        "id": "I-PAhDZV1VOF"
      },
      "outputs": [],
      "source": [
        "model.compile(optimizer=\"rmsprop\",\n",
        "              loss=\"sparse_categorical_crossentropy\",\n",
        "              metrics=[\"accuracy\"])"
      ]
    },
    {
      "cell_type": "markdown",
      "metadata": {
        "id": "dZO7LuSa1VOG"
      },
      "source": [
        "**Preparing the image data**"
      ]
    },
    {
      "cell_type": "code",
      "execution_count": null,
      "metadata": {
        "id": "wXAhUzxa1VOG"
      },
      "outputs": [],
      "source": [
        "train_images = train_images.reshape((60000, 28 * 28))\n",
        "train_images = train_images.astype(\"float32\") / 255\n",
        "test_images = test_images.reshape((10000, 28 * 28))\n",
        "test_images = test_images.astype(\"float32\") / 255"
      ]
    },
    {
      "cell_type": "markdown",
      "metadata": {
        "id": "gqs8C0ww1VOH"
      },
      "source": [
        "**\"Fitting\" the model**"
      ]
    },
    {
      "cell_type": "code",
      "execution_count": null,
      "metadata": {
        "id": "96gmfF_y1VOH"
      },
      "outputs": [],
      "source": [
        "model.fit(train_images, train_labels, epochs=5, batch_size=128)"
      ]
    },
    {
      "cell_type": "markdown",
      "metadata": {
        "id": "427WusYh1VOI"
      },
      "source": [
        "**Using the model to make predictions**"
      ]
    },
    {
      "cell_type": "code",
      "execution_count": null,
      "metadata": {
        "id": "VTwUrWID1VOI"
      },
      "outputs": [],
      "source": [
        "test_digits = test_images[0:10]\n",
        "predictions = model.predict(test_digits)\n",
        "predictions[0]"
      ]
    },
    {
      "cell_type": "code",
      "execution_count": null,
      "metadata": {
        "id": "JWFJuiuq1VOI"
      },
      "outputs": [],
      "source": [
        "predictions[0].argmax()"
      ]
    },
    {
      "cell_type": "code",
      "execution_count": null,
      "metadata": {
        "id": "RrXeSDvb1VOJ"
      },
      "outputs": [],
      "source": [
        "predictions[0][7]"
      ]
    },
    {
      "cell_type": "code",
      "execution_count": null,
      "metadata": {
        "id": "6dY0LgKe1VOJ"
      },
      "outputs": [],
      "source": [
        "test_labels[0]"
      ]
    },
    {
      "cell_type": "markdown",
      "metadata": {
        "id": "Ln0ntbV91VOJ"
      },
      "source": [
        "**Evaluating the model on new data**"
      ]
    },
    {
      "cell_type": "code",
      "execution_count": null,
      "metadata": {
        "id": "_1vzmwyJ1VOJ"
      },
      "outputs": [],
      "source": [
        "test_loss, test_acc = model.evaluate(test_images, test_labels)\n",
        "print(f\"test_acc: {test_acc}\")"
      ]
    },
    {
      "cell_type": "markdown",
      "metadata": {
        "id": "eSujUvv41VOK"
      },
      "source": [
        "## Data representations for neural networks"
      ]
    },
    {
      "cell_type": "markdown",
      "metadata": {
        "id": "zuYxZHg11VOK"
      },
      "source": [
        "### Scalars (rank-0 tensors)"
      ]
    },
    {
      "cell_type": "code",
      "execution_count": 12,
      "metadata": {
        "id": "y12ATp0C1VOK",
        "outputId": "afa946e2-82ba-4d03-a058-0a141d3e53c3",
        "colab": {
          "base_uri": "https://localhost:8080/"
        }
      },
      "outputs": [
        {
          "output_type": "execute_result",
          "data": {
            "text/plain": [
              "array(12)"
            ]
          },
          "metadata": {},
          "execution_count": 12
        }
      ],
      "source": [
        "import numpy as np\n",
        "x = np.array(12)\n",
        "x"
      ]
    },
    {
      "cell_type": "code",
      "execution_count": 13,
      "metadata": {
        "id": "jFG72Yn91VOK",
        "outputId": "5ce3fae4-fa7f-41fd-931b-234a5ef1c16c",
        "colab": {
          "base_uri": "https://localhost:8080/"
        }
      },
      "outputs": [
        {
          "output_type": "execute_result",
          "data": {
            "text/plain": [
              "0"
            ]
          },
          "metadata": {},
          "execution_count": 13
        }
      ],
      "source": [
        "x.ndim"
      ]
    },
    {
      "cell_type": "markdown",
      "metadata": {
        "id": "AZVqA1B71VOL"
      },
      "source": [
        "### Vectors (rank-1 tensors)"
      ]
    },
    {
      "cell_type": "code",
      "execution_count": 14,
      "metadata": {
        "id": "45hT0Isd1VOL",
        "outputId": "a1a13e67-3361-451d-a21d-95fa460495bd",
        "colab": {
          "base_uri": "https://localhost:8080/"
        }
      },
      "outputs": [
        {
          "output_type": "execute_result",
          "data": {
            "text/plain": [
              "array([12,  3,  6, 14,  7])"
            ]
          },
          "metadata": {},
          "execution_count": 14
        }
      ],
      "source": [
        "x = np.array([12, 3, 6, 14, 7])\n",
        "x"
      ]
    },
    {
      "cell_type": "code",
      "execution_count": 15,
      "metadata": {
        "id": "925KIola1VOL",
        "outputId": "d8ddc9a9-bd90-44a9-9bfd-840fa3e7e38e",
        "colab": {
          "base_uri": "https://localhost:8080/"
        }
      },
      "outputs": [
        {
          "output_type": "execute_result",
          "data": {
            "text/plain": [
              "1"
            ]
          },
          "metadata": {},
          "execution_count": 15
        }
      ],
      "source": [
        "x.ndim"
      ]
    },
    {
      "cell_type": "markdown",
      "metadata": {
        "id": "bIClzS4_1VOL"
      },
      "source": [
        "### Matrices (rank-2 tensors)"
      ]
    },
    {
      "cell_type": "code",
      "execution_count": 16,
      "metadata": {
        "id": "8LSGpuic1VOM",
        "outputId": "e450827d-36d9-4035-db1d-fa3dc6cb5097",
        "colab": {
          "base_uri": "https://localhost:8080/"
        }
      },
      "outputs": [
        {
          "output_type": "execute_result",
          "data": {
            "text/plain": [
              "2"
            ]
          },
          "metadata": {},
          "execution_count": 16
        }
      ],
      "source": [
        "x = np.array([[5, 78, 2, 34, 0],\n",
        "              [6, 79, 3, 35, 1],\n",
        "              [7, 80, 4, 36, 2]])\n",
        "x.ndim"
      ]
    },
    {
      "cell_type": "markdown",
      "metadata": {
        "id": "kyc9LKMI1VOM"
      },
      "source": [
        "### Rank-3 and higher-rank tensors"
      ]
    },
    {
      "cell_type": "code",
      "execution_count": 17,
      "metadata": {
        "id": "n4UU13Yq1VOM",
        "outputId": "3a94b694-71bc-4fef-f526-c3eb8e4cb1df",
        "colab": {
          "base_uri": "https://localhost:8080/"
        }
      },
      "outputs": [
        {
          "output_type": "execute_result",
          "data": {
            "text/plain": [
              "3"
            ]
          },
          "metadata": {},
          "execution_count": 17
        }
      ],
      "source": [
        "x = np.array([[[5, 78, 2, 34, 0],\n",
        "               [6, 79, 3, 35, 1],\n",
        "               [7, 80, 4, 36, 2]],\n",
        "              [[5, 78, 2, 34, 0],\n",
        "               [6, 79, 3, 35, 1],\n",
        "               [7, 80, 4, 36, 2]],\n",
        "              [[5, 78, 2, 34, 0],\n",
        "               [6, 79, 3, 35, 1],\n",
        "               [7, 80, 4, 36, 2]]])\n",
        "x.ndim"
      ]
    },
    {
      "cell_type": "markdown",
      "metadata": {
        "id": "fr5cuiq81VON"
      },
      "source": [
        "### Key attributes"
      ]
    },
    {
      "cell_type": "code",
      "execution_count": 18,
      "metadata": {
        "id": "408wwErR1VON"
      },
      "outputs": [],
      "source": [
        "from tensorflow.keras.datasets import mnist\n",
        "(train_images, train_labels), (test_images, test_labels) = mnist.load_data()"
      ]
    },
    {
      "cell_type": "code",
      "execution_count": 19,
      "metadata": {
        "id": "u06u3XwM1VOZ",
        "outputId": "98ca246a-cadc-4b93-824e-ef0cd6ea5cd9",
        "colab": {
          "base_uri": "https://localhost:8080/"
        }
      },
      "outputs": [
        {
          "output_type": "execute_result",
          "data": {
            "text/plain": [
              "3"
            ]
          },
          "metadata": {},
          "execution_count": 19
        }
      ],
      "source": [
        "train_images.ndim"
      ]
    },
    {
      "cell_type": "code",
      "execution_count": 20,
      "metadata": {
        "id": "OxKIsYyE1VOZ",
        "outputId": "b6bd6e18-baa5-4145-878c-9f75d0e4e786",
        "colab": {
          "base_uri": "https://localhost:8080/"
        }
      },
      "outputs": [
        {
          "output_type": "execute_result",
          "data": {
            "text/plain": [
              "(60000, 28, 28)"
            ]
          },
          "metadata": {},
          "execution_count": 20
        }
      ],
      "source": [
        "train_images.shape"
      ]
    },
    {
      "cell_type": "code",
      "execution_count": 21,
      "metadata": {
        "id": "i7efWywa1VOa",
        "outputId": "10601fdd-b98e-4361-96b2-3121f6ca0003",
        "colab": {
          "base_uri": "https://localhost:8080/"
        }
      },
      "outputs": [
        {
          "output_type": "execute_result",
          "data": {
            "text/plain": [
              "dtype('uint8')"
            ]
          },
          "metadata": {},
          "execution_count": 21
        }
      ],
      "source": [
        "train_images.dtype"
      ]
    },
    {
      "cell_type": "markdown",
      "metadata": {
        "id": "-EcWgr-E1VOa"
      },
      "source": [
        "**Displaying the fourth digit**"
      ]
    },
    {
      "cell_type": "code",
      "execution_count": 22,
      "metadata": {
        "id": "hSNsxq-71VOa",
        "outputId": "6460ccaf-fa50-470c-e7f3-27888fa98dd5",
        "colab": {
          "base_uri": "https://localhost:8080/",
          "height": 430
        }
      },
      "outputs": [
        {
          "output_type": "display_data",
          "data": {
            "text/plain": [
              "<Figure size 640x480 with 1 Axes>"
            ],
            "image/png": "[encoded data removed]"
          },
          "metadata": {}
        }
      ],
      "source": [
        "import matplotlib.pyplot as plt\n",
        "digit = train_images[4]\n",
        "plt.imshow(digit, cmap=plt.cm.binary)\n",
        "plt.show()"
      ]
    },
    {
      "cell_type": "code",
      "execution_count": 23,
      "metadata": {
        "id": "ptgyM_261VOb",
        "outputId": "700debd8-aba9-4db3-89e5-8306e2be9ecf",
        "colab": {
          "base_uri": "https://localhost:8080/"
        }
      },
      "outputs": [
        {
          "output_type": "execute_result",
          "data": {
            "text/plain": [
              "9"
            ]
          },
          "metadata": {},
          "execution_count": 23
        }
      ],
      "source": [
        "train_labels[4]"
      ]
    },
    {
      "cell_type": "markdown",
      "metadata": {
        "id": "tUsd4-Nw1VOb"
      },
      "source": [
        "### Manipulating tensors in NumPy"
      ]
    },
    {
      "cell_type": "code",
      "execution_count": null,
      "metadata": {
        "id": "p59kG4ti1VOb"
      },
      "outputs": [],
      "source": [
        "my_slice = train_images[10:100]\n",
        "my_slice.shape"
      ]
    },
    {
      "cell_type": "code",
      "execution_count": null,
      "metadata": {
        "id": "4LbzLKhG1VOb"
      },
      "outputs": [],
      "source": [
        "my_slice = train_images[10:100, :, :]\n",
        "my_slice.shape"
      ]
    },
    {
      "cell_type": "code",
      "execution_count": null,
      "metadata": {
        "id": "SOV5mKbL1VOc"
      },
      "outputs": [],
      "source": [
        "my_slice = train_images[10:100, 0:28, 0:28]\n",
        "my_slice.shape"
      ]
    },
    {
      "cell_type": "code",
      "execution_count": null,
      "metadata": {
        "id": "NQyDoy2D1VOc"
      },
      "outputs": [],
      "source": [
        "my_slice = train_images[:, 14:, 14:]"
      ]
    },
    {
      "cell_type": "code",
      "execution_count": null,
      "metadata": {
        "id": "Q8wwmKzF1VOc"
      },
      "outputs": [],
      "source": [
        "my_slice = train_images[:, 7:-7, 7:-7]"
      ]
    },
    {
      "cell_type": "markdown",
      "metadata": {
        "id": "nJ1gnDtj1VOd"
      },
      "source": [
        "### The notion of data batches"
      ]
    },
    {
      "cell_type": "code",
      "execution_count": 24,
      "metadata": {
        "id": "wNETpI_y1VOd"
      },
      "outputs": [],
      "source": [
        "batch = train_images[:128]"
      ]
    },
    {
      "cell_type": "code",
      "execution_count": 25,
      "metadata": {
        "id": "XsF2EaNN1VOd"
      },
      "outputs": [],
      "source": [
        "batch = train_images[128:256]"
      ]
    },
    {
      "cell_type": "code",
      "execution_count": 26,
      "metadata": {
        "id": "oXu4Wz6W1VOe"
      },
      "outputs": [],
      "source": [
        "n = 3\n",
        "batch = train_images[128 * n:128 * (n + 1)]"
      ]
    },
    {
      "cell_type": "markdown",
      "metadata": {
        "id": "5WF5ujIV1VOe"
      },
      "source": [
        "### Real-world examples of data tensors"
      ]
    },
    {
      "cell_type": "markdown",
      "metadata": {
        "id": "o49WZpy-1VOe"
      },
      "source": [
        "### Vector data"
      ]
    },
    {
      "cell_type": "markdown",
      "metadata": {
        "id": "pCM5QTks1VOe"
      },
      "source": [
        "### Timeseries data or sequence data"
      ]
    },
    {
      "cell_type": "markdown",
      "metadata": {
        "id": "D4MGDbYZ1VOf"
      },
      "source": [
        "### Image data"
      ]
    },
    {
      "cell_type": "markdown",
      "metadata": {
        "id": "FkWsziR91VOf"
      },
      "source": [
        "### Video data"
      ]
    },
    {
      "cell_type": "markdown",
      "metadata": {
        "id": "ja3XBqep1VOf"
      },
      "source": [
        "## The gears of neural networks: tensor operations"
      ]
    },
    {
      "cell_type": "markdown",
      "metadata": {
        "id": "1mnnStDQ1VOf"
      },
      "source": [
        "### Element-wise operations"
      ]
    },
    {
      "cell_type": "code",
      "execution_count": 27,
      "metadata": {
        "id": "uf12Hezk1VOg"
      },
      "outputs": [],
      "source": [
        "def naive_relu(x):\n",
        "    assert len(x.shape) == 2\n",
        "    x = x.copy()\n",
        "    for i in range(x.shape[0]):\n",
        "        for j in range(x.shape[1]):\n",
        "            x[i, j] = max(x[i, j], 0)\n",
        "    return x"
      ]
    },
    {
      "cell_type": "code",
      "execution_count": 28,
      "metadata": {
        "id": "M1JV8ntQ1VOg"
      },
      "outputs": [],
      "source": [
        "def naive_add(x, y):\n",
        "    assert len(x.shape) == 2\n",
        "    assert x.shape == y.shape\n",
        "    x = x.copy()\n",
        "    for i in range(x.shape[0]):\n",
        "        for j in range(x.shape[1]):\n",
        "            x[i, j] += y[i, j]\n",
        "    return x"
      ]
    },
    {
      "cell_type": "code",
      "execution_count": 29,
      "metadata": {
        "id": "Hyc0ZFpe1VOg",
        "outputId": "3b6390f8-bbb6-421b-deef-7ea91927e2aa",
        "colab": {
          "base_uri": "https://localhost:8080/"
        }
      },
      "outputs": [
        {
          "output_type": "stream",
          "name": "stdout",
          "text": [
            "Took: 0.01 s\n"
          ]
        }
      ],
      "source": [
        "import time  # Import the time module to measure execution time\n",
        "import numpy as np  # Import NumPy for numerical operations\n",
        "\n",
        "# Create two random 2D arrays (matrices) of shape (20, 100)\n",
        "x = np.random.random((20, 100))\n",
        "y = np.random.random((20, 100))\n",
        "\n",
        "# Record the current time before starting the operation\n",
        "t0 = time.time()\n",
        "\n",
        "# Repeat the operation 1000 times to measure performance\n",
        "for _ in range(1000):\n",
        "    # Perform element-wise addition of the two matrices\n",
        "    z = x + y\n",
        "\n",
        "    # Apply the element-wise maximum function to ensure all values are non-negative\n",
        "    # This replaces any negative values in the result with 0\n",
        "    z = np.maximum(z, 0.)\n",
        "\n",
        "# Calculate the total time taken for the operations and print it\n",
        "print(\"Took: {0:.2f} s\".format(time.time() - t0))"
      ]
    },
    {
      "cell_type": "code",
      "execution_count": 30,
      "metadata": {
        "id": "F_iRY8mu1VOh",
        "outputId": "621dbb81-6578-49ae-c2a6-304d28259a78",
        "colab": {
          "base_uri": "https://localhost:8080/"
        }
      },
      "outputs": [
        {
          "output_type": "stream",
          "name": "stdout",
          "text": [
            "Took: 2.97 s\n"
          ]
        }
      ],
      "source": [
        "t0 = time.time()\n",
        "\n",
        "# Repeat the operation 1000 times to measure performance\n",
        "for _ in range(1000):\n",
        "    # Perform element-wise addition using the naive_add function\n",
        "    z = naive_add(x, y)\n",
        "\n",
        "    # Apply the naive ReLU function to ensure all values are non-negative\n",
        "    z = naive_relu(z)\n",
        "\n",
        "# Calculate the total time taken for the operations and print it\n",
        "print(\"Took: {0:.2f} s\".format(time.time() - t0))"
      ]
    },
    {
      "cell_type": "markdown",
      "metadata": {
        "id": "Iyw1v_c-1VOh"
      },
      "source": [
        "### Broadcasting"
      ]
    },
    {
      "cell_type": "code",
      "execution_count": 31,
      "metadata": {
        "id": "F7PCbS0P1VOh"
      },
      "outputs": [],
      "source": [
        "import numpy as np\n",
        "X = np.random.random((32, 10))\n",
        "y = np.random.random((10,))"
      ]
    },
    {
      "cell_type": "code",
      "execution_count": 32,
      "metadata": {
        "id": "Es-DHzdl1VOi"
      },
      "outputs": [],
      "source": [
        "y = np.expand_dims(y, axis=0)"
      ]
    },
    {
      "cell_type": "code",
      "source": [
        "y"
      ],
      "metadata": {
        "id": "1zQGQlx53NEP",
        "outputId": "64046e79-f9ba-4f79-cd17-ab4d4a15b4aa",
        "colab": {
          "base_uri": "https://localhost:8080/"
        }
      },
      "execution_count": 33,
      "outputs": [
        {
          "output_type": "execute_result",
          "data": {
            "text/plain": [
              "array([[0.66073103, 0.21085662, 0.78179327, 0.07362523, 0.90292271,\n",
              "        0.4621816 , 0.80628273, 0.95993849, 0.78453987, 0.42403989]])"
            ]
          },
          "metadata": {},
          "execution_count": 33
        }
      ]
    },
    {
      "cell_type": "code",
      "execution_count": 34,
      "metadata": {
        "id": "7T0UTUvI1VOi",
        "outputId": "51e94ae1-a35d-46e4-bc6f-c39c173ed02e",
        "colab": {
          "base_uri": "https://localhost:8080/"
        }
      },
      "outputs": [
        {
          "output_type": "execute_result",
          "data": {
            "text/plain": [
              "array([[0.66073103, 0.21085662, 0.78179327, 0.07362523, 0.90292271,\n",
              "        0.4621816 , 0.80628273, 0.95993849, 0.78453987, 0.42403989],\n",
              "       [0.66073103, 0.21085662, 0.78179327, 0.07362523, 0.90292271,\n",
              "        0.4621816 , 0.80628273, 0.95993849, 0.78453987, 0.42403989],\n",
              "       [0.66073103, 0.21085662, 0.78179327, 0.07362523, 0.90292271,\n",
              "        0.4621816 , 0.80628273, 0.95993849, 0.78453987, 0.42403989],\n",
              "       [0.66073103, 0.21085662, 0.78179327, 0.07362523, 0.90292271,\n",
              "        0.4621816 , 0.80628273, 0.95993849, 0.78453987, 0.42403989],\n",
              "       [0.66073103, 0.21085662, 0.78179327, 0.07362523, 0.90292271,\n",
              "        0.4621816 , 0.80628273, 0.95993849, 0.78453987, 0.42403989],\n",
              "       [0.66073103, 0.21085662, 0.78179327, 0.07362523, 0.90292271,\n",
              "        0.4621816 , 0.80628273, 0.95993849, 0.78453987, 0.42403989],\n",
              "       [0.66073103, 0.21085662, 0.78179327, 0.07362523, 0.90292271,\n",
              "        0.4621816 , 0.80628273, 0.95993849, 0.78453987, 0.42403989],\n",
              "       [0.66073103, 0.21085662, 0.78179327, 0.07362523, 0.90292271,\n",
              "        0.4621816 , 0.80628273, 0.95993849, 0.78453987, 0.42403989],\n",
              "       [0.66073103, 0.21085662, 0.78179327, 0.07362523, 0.90292271,\n",
              "        0.4621816 , 0.80628273, 0.95993849, 0.78453987, 0.42403989],\n",
              "       [0.66073103, 0.21085662, 0.78179327, 0.07362523, 0.90292271,\n",
              "        0.4621816 , 0.80628273, 0.95993849, 0.78453987, 0.42403989],\n",
              "       [0.66073103, 0.21085662, 0.78179327, 0.07362523, 0.90292271,\n",
              "        0.4621816 , 0.80628273, 0.95993849, 0.78453987, 0.42403989],\n",
              "       [0.66073103, 0.21085662, 0.78179327, 0.07362523, 0.90292271,\n",
              "        0.4621816 , 0.80628273, 0.95993849, 0.78453987, 0.42403989],\n",
              "       [0.66073103, 0.21085662, 0.78179327, 0.07362523, 0.90292271,\n",
              "        0.4621816 , 0.80628273, 0.95993849, 0.78453987, 0.42403989],\n",
              "       [0.66073103, 0.21085662, 0.78179327, 0.07362523, 0.90292271,\n",
              "        0.4621816 , 0.80628273, 0.95993849, 0.78453987, 0.42403989],\n",
              "       [0.66073103, 0.21085662, 0.78179327, 0.07362523, 0.90292271,\n",
              "        0.4621816 , 0.80628273, 0.95993849, 0.78453987, 0.42403989],\n",
              "       [0.66073103, 0.21085662, 0.78179327, 0.07362523, 0.90292271,\n",
              "        0.4621816 , 0.80628273, 0.95993849, 0.78453987, 0.42403989],\n",
              "       [0.66073103, 0.21085662, 0.78179327, 0.07362523, 0.90292271,\n",
              "        0.4621816 , 0.80628273, 0.95993849, 0.78453987, 0.42403989],\n",
              "       [0.66073103, 0.21085662, 0.78179327, 0.07362523, 0.90292271,\n",
              "        0.4621816 , 0.80628273, 0.95993849, 0.78453987, 0.42403989],\n",
              "       [0.66073103, 0.21085662, 0.78179327, 0.07362523, 0.90292271,\n",
              "        0.4621816 , 0.80628273, 0.95993849, 0.78453987, 0.42403989],\n",
              "       [0.66073103, 0.21085662, 0.78179327, 0.07362523, 0.90292271,\n",
              "        0.4621816 , 0.80628273, 0.95993849, 0.78453987, 0.42403989],\n",
              "       [0.66073103, 0.21085662, 0.78179327, 0.07362523, 0.90292271,\n",
              "        0.4621816 , 0.80628273, 0.95993849, 0.78453987, 0.42403989],\n",
              "       [0.66073103, 0.21085662, 0.78179327, 0.07362523, 0.90292271,\n",
              "        0.4621816 , 0.80628273, 0.95993849, 0.78453987, 0.42403989],\n",
              "       [0.66073103, 0.21085662, 0.78179327, 0.07362523, 0.90292271,\n",
              "        0.4621816 , 0.80628273, 0.95993849, 0.78453987, 0.42403989],\n",
              "       [0.66073103, 0.21085662, 0.78179327, 0.07362523, 0.90292271,\n",
              "        0.4621816 , 0.80628273, 0.95993849, 0.78453987, 0.42403989],\n",
              "       [0.66073103, 0.21085662, 0.78179327, 0.07362523, 0.90292271,\n",
              "        0.4621816 , 0.80628273, 0.95993849, 0.78453987, 0.42403989],\n",
              "       [0.66073103, 0.21085662, 0.78179327, 0.07362523, 0.90292271,\n",
              "        0.4621816 , 0.80628273, 0.95993849, 0.78453987, 0.42403989],\n",
              "       [0.66073103, 0.21085662, 0.78179327, 0.07362523, 0.90292271,\n",
              "        0.4621816 , 0.80628273, 0.95993849, 0.78453987, 0.42403989],\n",
              "       [0.66073103, 0.21085662, 0.78179327, 0.07362523, 0.90292271,\n",
              "        0.4621816 , 0.80628273, 0.95993849, 0.78453987, 0.42403989],\n",
              "       [0.66073103, 0.21085662, 0.78179327, 0.07362523, 0.90292271,\n",
              "        0.4621816 , 0.80628273, 0.95993849, 0.78453987, 0.42403989],\n",
              "       [0.66073103, 0.21085662, 0.78179327, 0.07362523, 0.90292271,\n",
              "        0.4621816 , 0.80628273, 0.95993849, 0.78453987, 0.42403989],\n",
              "       [0.66073103, 0.21085662, 0.78179327, 0.07362523, 0.90292271,\n",
              "        0.4621816 , 0.80628273, 0.95993849, 0.78453987, 0.42403989],\n",
              "       [0.66073103, 0.21085662, 0.78179327, 0.07362523, 0.90292271,\n",
              "        0.4621816 , 0.80628273, 0.95993849, 0.78453987, 0.42403989]])"
            ]
          },
          "metadata": {},
          "execution_count": 34
        }
      ],
      "source": [
        "Y = np.concatenate([y] * 32, axis=0)\n",
        "Y"
      ]
    },
    {
      "cell_type": "code",
      "execution_count": 44,
      "metadata": {
        "id": "mOf-Ri_y1VOi"
      },
      "outputs": [],
      "source": [
        "def naive_add_matrix_and_vector(x, y):\n",
        "    # Ensure that x is a 2D array (matrix)\n",
        "    assert len(x.shape) == 2\n",
        "\n",
        "    # Ensure that y is a 1D array (vector)\n",
        "    assert len(y.shape) == 1\n",
        "\n",
        "    # Ensure that the number of columns in the matrix x equals the length of the vector y\n",
        "    assert x.shape[1] == y.shape[0]\n",
        "\n",
        "    # Create a copy of x to avoid modifying the original input array\n",
        "    x = x.copy()\n",
        "\n",
        "    # Iterate over each row of the matrix x\n",
        "    for i in range(x.shape[0]):\n",
        "        # Iterate over each column of the matrix x\n",
        "        for j in range(x.shape[1]):\n",
        "            # Add the corresponding element of vector y to the current element of the matrix x\n",
        "            x[i, j] += y[j]\n",
        "\n",
        "    # Return the modified matrix x\n",
        "    return x"
      ]
    },
    {
      "cell_type": "code",
      "execution_count": 54,
      "metadata": {
        "id": "ULIA_yrh1VOi"
      },
      "outputs": [],
      "source": [
        "import numpy as np  # Import NumPy for numerical operations\n",
        "\n",
        "# Create a 4D array (tensor) with random values between 0 and 1 of shape (64, 3, 32, 10)\n",
        "x = np.random.random((64, 3, 32, 10))\n",
        "\n",
        "# Create a 2D array (matrix) with random values between 0 and 1 of shape (32, 10)\n",
        "y = np.random.random((32, 10))\n",
        "\n",
        "# Perform an element-wise maximum operation between the 4D tensor and the 2D matrix\n",
        "z = np.maximum(x, y)"
      ]
    },
    {
      "cell_type": "markdown",
      "metadata": {
        "id": "eHSF2fvh1VOi"
      },
      "source": [
        "### Tensor product"
      ]
    },
    {
      "cell_type": "code",
      "execution_count": 55,
      "metadata": {
        "id": "87mu63Ds1VOj"
      },
      "outputs": [],
      "source": [
        "import numpy as np  # Import NumPy for numerical operations\n",
        "\n",
        "# Create a 1D array (vector) with random values between 0 and 1 of length 32\n",
        "x = np.random.random((32,))\n",
        "\n",
        "# Create another 1D array (vector) with random values between 0 and 1 of length 32\n",
        "y = np.random.random((32,))\n",
        "\n",
        "# Compute the dot product of the two vectors\n",
        "z = np.dot(x, y)"
      ]
    },
    {
      "cell_type": "code",
      "execution_count": 56,
      "metadata": {
        "id": "XLg2X-mb1VOj"
      },
      "outputs": [],
      "source": [
        "def naive_vector_dot(x, y):\n",
        "    # Ensure that x is a 1D array (vector)\n",
        "    assert len(x.shape) == 1\n",
        "\n",
        "    # Ensure that y is a 1D array (vector)\n",
        "    assert len(y.shape) == 1\n",
        "\n",
        "    # Ensure that the length of x matches the length of y\n",
        "    assert x.shape[0] == y.shape[0]\n",
        "\n",
        "    # Initialize the result of the dot product to 0\n",
        "    z = 0.\n",
        "\n",
        "    # Iterate over each element in the vectors\n",
        "    for i in range(x.shape[0]):\n",
        "        # Add the product of the corresponding elements of x and y to z\n",
        "        z += x[i] * y[i]\n",
        "\n",
        "    # Return the computed dot product\n",
        "    return z"
      ]
    },
    {
      "cell_type": "code",
      "execution_count": 57,
      "metadata": {
        "id": "TtY6Wsv-1VOj"
      },
      "outputs": [],
      "source": [
        "def naive_matrix_vector_dot(x, y):\n",
        "    # Ensure that x is a 2D array (matrix)\n",
        "    assert len(x.shape) == 2\n",
        "\n",
        "    # Ensure that y is a 1D array (vector)\n",
        "    assert len(y.shape) == 1\n",
        "\n",
        "    # Ensure that the number of columns in the matrix x matches the length of the vector y\n",
        "    assert x.shape[1] == y.shape[0]\n",
        "\n",
        "    # Initialize the result array z with zeros, having the same number of rows as the matrix x\n",
        "    z = np.zeros(x.shape[0])\n",
        "\n",
        "    # Iterate over each row of the matrix x\n",
        "    for i in range(x.shape[0]):\n",
        "        # Iterate over each column of the matrix x\n",
        "        for j in range(x.shape[1]):\n",
        "            # Perform the dot product calculation for the i-th element of the result array z\n",
        "            z[i] += x[i, j] * y[j]\n",
        "\n",
        "    # Return the resulting vector z\n",
        "    return z"
      ]
    },
    {
      "cell_type": "code",
      "execution_count": 58,
      "metadata": {
        "id": "ABoGud3C1VOj"
      },
      "outputs": [],
      "source": [
        "def naive_matrix_vector_dot(x, y):\n",
        "    z = np.zeros(x.shape[0])  # Initialize a zero-filled array for the result\n",
        "    for i in range(x.shape[0]):  # Iterate over each row of the matrix x\n",
        "        z[i] = naive_vector_dot(x[i, :], y)  # Compute dot product for each row and store in z\n",
        "    return z  # Return the resulting vector z"
      ]
    },
    {
      "cell_type": "code",
      "execution_count": 59,
      "metadata": {
        "id": "igN9nXfK1VOj"
      },
      "outputs": [],
      "source": [
        "def naive_matrix_dot(x, y):\n",
        "    # Ensure that x is a 2D array (matrix)\n",
        "    assert len(x.shape) == 2\n",
        "\n",
        "    # Ensure that y is a 2D array (matrix)\n",
        "    assert len(y.shape) == 2\n",
        "\n",
        "    # Ensure that the number of columns in matrix x matches the number of rows in matrix y\n",
        "    assert x.shape[1] == y.shape[0]\n",
        "\n",
        "    # Initialize a result matrix z filled with zeros\n",
        "    z = np.zeros((x.shape[0], y.shape[1]))\n",
        "\n",
        "    # Iterate over each row of matrix x\n",
        "    for i in range(x.shape[0]):\n",
        "        # Iterate over each column of matrix y\n",
        "        for j in range(y.shape[1]):\n",
        "            # Extract the i-th row of matrix x and the j-th column of matrix y\n",
        "            row_x = x[i, :]\n",
        "            column_y = y[:, j]\n",
        "\n",
        "            # Compute the dot product between row_x and column_y using naive_vector_dot\n",
        "            z[i, j] = naive_vector_dot(row_x, column_y)\n",
        "\n",
        "    # Return the resulting matrix z\n",
        "    return z"
      ]
    },
    {
      "cell_type": "markdown",
      "metadata": {
        "id": "IR4JaP7G1VOk"
      },
      "source": [
        "### Tensor reshaping"
      ]
    },
    {
      "cell_type": "code",
      "execution_count": 45,
      "metadata": {
        "id": "f7-MbSVM1VOk"
      },
      "outputs": [],
      "source": [
        "train_images = train_images.reshape((60000, 28 * 28))"
      ]
    },
    {
      "cell_type": "code",
      "execution_count": 46,
      "metadata": {
        "id": "F1jC6U4K1VOk",
        "outputId": "222ef9d8-868d-410e-a51d-5d0f9d920928",
        "colab": {
          "base_uri": "https://localhost:8080/"
        }
      },
      "outputs": [
        {
          "output_type": "execute_result",
          "data": {
            "text/plain": [
              "(3, 2)"
            ]
          },
          "metadata": {},
          "execution_count": 46
        }
      ],
      "source": [
        "x = np.array([[0., 1.],\n",
        "             [2., 3.],\n",
        "             [4., 5.]])\n",
        "x.shape"
      ]
    },
    {
      "cell_type": "code",
      "execution_count": 47,
      "metadata": {
        "id": "Xxjl7VYZ1VOk",
        "outputId": "89ed37fa-e517-4f4a-864e-a4c4cd8737bd",
        "colab": {
          "base_uri": "https://localhost:8080/"
        }
      },
      "outputs": [
        {
          "output_type": "execute_result",
          "data": {
            "text/plain": [
              "array([[0.],\n",
              "       [1.],\n",
              "       [2.],\n",
              "       [3.],\n",
              "       [4.],\n",
              "       [5.]])"
            ]
          },
          "metadata": {},
          "execution_count": 47
        }
      ],
      "source": [
        "x = x.reshape((6, 1))\n",
        "x"
      ]
    },
    {
      "cell_type": "code",
      "execution_count": 48,
      "metadata": {
        "id": "yLgQoVY81VOk",
        "outputId": "d2aed732-a23c-4c5a-90d5-93ad69f7f2ee",
        "colab": {
          "base_uri": "https://localhost:8080/"
        }
      },
      "outputs": [
        {
          "output_type": "execute_result",
          "data": {
            "text/plain": [
              "(20, 300)"
            ]
          },
          "metadata": {},
          "execution_count": 48
        }
      ],
      "source": [
        "x = np.zeros((300, 20))\n",
        "x = np.transpose(x)\n",
        "x.shape"
      ]
    },
    {
      "cell_type": "markdown",
      "metadata": {
        "id": "eveMkImM1VOk"
      },
      "source": [
        "### Geometric interpretation of tensor operations"
      ]
    },
    {
      "cell_type": "markdown",
      "metadata": {
        "id": "SBZpi77H1VOk"
      },
      "source": [
        "### A geometric interpretation of deep learning"
      ]
    },
    {
      "cell_type": "markdown",
      "metadata": {
        "id": "uG4qJdT51VOl"
      },
      "source": [
        "## The engine of neural networks: gradient-based optimization"
      ]
    },
    {
      "cell_type": "markdown",
      "metadata": {
        "id": "_xjewzzG1VOl"
      },
      "source": [
        "### What's a derivative?"
      ]
    },
    {
      "cell_type": "markdown",
      "metadata": {
        "id": "SGiG7tJW1VOl"
      },
      "source": [
        "### Derivative of a tensor operation: the gradient"
      ]
    },
    {
      "cell_type": "markdown",
      "metadata": {
        "id": "GACAQ8ih1VOl"
      },
      "source": [
        "### Stochastic gradient descent"
      ]
    },
    {
      "cell_type": "markdown",
      "metadata": {
        "id": "QIqbc3_q1VOl"
      },
      "source": [
        "### Chaining derivatives: The Backpropagation algorithm"
      ]
    },
    {
      "cell_type": "markdown",
      "metadata": {
        "id": "KKLftT481VOm"
      },
      "source": [
        "#### The chain rule"
      ]
    },
    {
      "cell_type": "markdown",
      "metadata": {
        "id": "hlz4Ctip1VOm"
      },
      "source": [
        "#### Automatic differentiation with computation graphs"
      ]
    },
    {
      "cell_type": "markdown",
      "metadata": {
        "id": "pkaXqsKB1VOm"
      },
      "source": [
        "#### The gradient tape in TensorFlow"
      ]
    },
    {
      "cell_type": "code",
      "execution_count": 60,
      "metadata": {
        "id": "IGxgDB_z1VOm"
      },
      "outputs": [],
      "source": [
        "import tensorflow as tf\n",
        "\n",
        "# Define a TensorFlow variable x with initial value 0.0\n",
        "x = tf.Variable(0.)\n",
        "\n",
        "# Create a gradient tape context to trace operations for automatic differentiation\n",
        "with tf.GradientTape() as tape:\n",
        "    # Define a computation involving x\n",
        "    y = 2 * x + 3\n",
        "\n",
        "# Calculate the gradient of y with respect to x using the tape\n",
        "grad_of_y_wrt_x = tape.gradient(y, x)"
      ]
    },
    {
      "cell_type": "code",
      "execution_count": 50,
      "metadata": {
        "id": "EBXd218p1VOm"
      },
      "outputs": [],
      "source": [
        "x = tf.Variable(tf.random.uniform((2, 2)))\n",
        "with tf.GradientTape() as tape:\n",
        "    y = 2 * x + 3\n",
        "grad_of_y_wrt_x = tape.gradient(y, x)"
      ]
    },
    {
      "cell_type": "code",
      "source": [
        "grad_of_y_wrt_x"
      ],
      "metadata": {
        "id": "rJ6l3n3IIc9j",
        "outputId": "4df293fc-7289-471f-903f-47ec86293979",
        "colab": {
          "base_uri": "https://localhost:8080/"
        }
      },
      "execution_count": 53,
      "outputs": [
        {
          "output_type": "execute_result",
          "data": {
            "text/plain": [
              "<tf.Tensor: shape=(2, 2), dtype=float32, numpy=\n",
              "array([[2., 2.],\n",
              "       [2., 2.]], dtype=float32)>"
            ]
          },
          "metadata": {},
          "execution_count": 53
        }
      ]
    },
    {
      "cell_type": "code",
      "execution_count": 61,
      "metadata": {
        "id": "BahGUcVC1VOm"
      },
      "outputs": [],
      "source": [
        "import tensorflow as tf\n",
        "\n",
        "# Define a TensorFlow variable W initialized with random uniform values of shape (2, 2)\n",
        "W = tf.Variable(tf.random.uniform((2, 2)))\n",
        "\n",
        "# Define a TensorFlow variable b initialized with zeros of shape (2,)\n",
        "b = tf.Variable(tf.zeros((2,)))\n",
        "\n",
        "# Create a TensorFlow tensor x initialized with random uniform values of shape (2, 2)\n",
        "x = tf.random.uniform((2, 2))\n",
        "\n",
        "# Create a gradient tape context to trace operations for automatic differentiation\n",
        "with tf.GradientTape() as tape:\n",
        "    # Define a computation involving x, W, and b\n",
        "    y = tf.matmul(x, W) + b\n",
        "\n",
        "# Calculate the gradient of y with respect to both W and b using the tape\n",
        "grad_of_y_wrt_W_and_b = tape.gradient(y, [W, b])"
      ]
    },
    {
      "cell_type": "code",
      "source": [
        "grad_of_y_wrt_W_and_b"
      ],
      "metadata": {
        "id": "QBDLCoi3IasV",
        "outputId": "18642f57-91b2-459f-da3b-07cece7e635c",
        "colab": {
          "base_uri": "https://localhost:8080/"
        }
      },
      "execution_count": 52,
      "outputs": [
        {
          "output_type": "execute_result",
          "data": {
            "text/plain": [
              "[<tf.Tensor: shape=(2, 2), dtype=float32, numpy=\n",
              " array([[1.5454732, 1.5454732],\n",
              "        [0.9769137, 0.9769137]], dtype=float32)>,\n",
              " <tf.Tensor: shape=(2,), dtype=float32, numpy=array([2., 2.], dtype=float32)>]"
            ]
          },
          "metadata": {},
          "execution_count": 52
        }
      ]
    },
    {
      "cell_type": "markdown",
      "metadata": {
        "id": "OC4IU_y-1VOn"
      },
      "source": [
        "## Looking back at our first example"
      ]
    },
    {
      "cell_type": "code",
      "execution_count": null,
      "metadata": {
        "id": "7UEYoeGK1VOn"
      },
      "outputs": [],
      "source": [
        "(train_images, train_labels), (test_images, test_labels) = mnist.load_data()\n",
        "train_images = train_images.reshape((60000, 28 * 28))\n",
        "train_images = train_images.astype(\"float32\") / 255\n",
        "test_images = test_images.reshape((10000, 28 * 28))\n",
        "test_images = test_images.astype(\"float32\") / 255"
      ]
    },
    {
      "cell_type": "code",
      "execution_count": null,
      "metadata": {
        "id": "mxgDEo-M1VOn"
      },
      "outputs": [],
      "source": [
        "model = keras.Sequential([\n",
        "    layers.Dense(512, activation=\"relu\"),\n",
        "    layers.Dense(10, activation=\"softmax\")\n",
        "])"
      ]
    },
    {
      "cell_type": "code",
      "execution_count": null,
      "metadata": {
        "id": "ugtKVPUe1VOn"
      },
      "outputs": [],
      "source": [
        "model.compile(optimizer=\"rmsprop\",\n",
        "              loss=\"sparse_categorical_crossentropy\",\n",
        "              metrics=[\"accuracy\"])"
      ]
    },
    {
      "cell_type": "code",
      "execution_count": null,
      "metadata": {
        "id": "I4MWPRGB1VOn"
      },
      "outputs": [],
      "source": [
        "model.fit(train_images, train_labels, epochs=5, batch_size=128)"
      ]
    },
    {
      "cell_type": "markdown",
      "metadata": {
        "id": "C0QDqHn-1VOn"
      },
      "source": [
        "### Reimplementing our first example from scratch in TensorFlow"
      ]
    },
    {
      "cell_type": "markdown",
      "metadata": {
        "id": "DI5aLoVW1VOo"
      },
      "source": [
        "#### A simple Dense class"
      ]
    },
    {
      "cell_type": "code",
      "execution_count": 62,
      "metadata": {
        "id": "ZHlkeFic1VOo"
      },
      "outputs": [],
      "source": [
        "import tensorflow as tf\n",
        "\n",
        "class NaiveDense:\n",
        "    def __init__(self, input_size, output_size, activation):\n",
        "        # Initialize the activation function (e.g., tf.nn.relu, tf.nn.sigmoid)\n",
        "        self.activation = activation\n",
        "\n",
        "        # Initialize weights W with random uniform values\n",
        "        w_shape = (input_size, output_size)\n",
        "        w_initial_value = tf.random.uniform(w_shape, minval=0, maxval=1e-1)\n",
        "        self.W = tf.Variable(w_initial_value)\n",
        "\n",
        "        # Initialize biases b with zeros\n",
        "        b_shape = (output_size,)\n",
        "        b_initial_value = tf.zeros(b_shape)\n",
        "        self.b = tf.Variable(b_initial_value)\n",
        "\n",
        "    def __call__(self, inputs):\n",
        "        # Define the forward pass through the layer\n",
        "        linear_output = tf.matmul(inputs, self.W) + self.b\n",
        "        return self.activation(linear_output)\n",
        "\n",
        "    '''\n",
        "    @property in Python decorates methods to act like attributes, ensuring controlled access and enhancing encapsulation.\n",
        "    It allows computed attribute values, read-only access, and maintains code readability by hiding complex logic.\n",
        "    '''\n",
        "\n",
        "    @property\n",
        "    def weights(self):\n",
        "        # Getter method to access the weights (W and b) of the layer\n",
        "        return [self.W, self.b]"
      ]
    },
    {
      "cell_type": "code",
      "source": [
        "# Creating an instance of NaiveDense\n",
        "dense_layer = NaiveDense(input_size=10, output_size=5, activation=tf.nn.relu)\n",
        "\n",
        "# Accessing weights using the property\n",
        "weights = dense_layer.weights\n",
        "print(weights)  # Output: [self.W, self.b]"
      ],
      "metadata": {
        "id": "yBp3q6gGL4mC",
        "outputId": "1e45f983-cd3d-4553-b78a-d8f7ef113765",
        "colab": {
          "base_uri": "https://localhost:8080/"
        }
      },
      "execution_count": 63,
      "outputs": [
        {
          "output_type": "stream",
          "name": "stdout",
          "text": [
            "[<tf.Variable 'Variable:0' shape=(10, 5) dtype=float32, numpy=\n",
            "array([[0.0895526 , 0.03265173, 0.03157299, 0.00047649, 0.0518274 ],\n",
            "       [0.01805642, 0.03442823, 0.05895296, 0.05307732, 0.06790838],\n",
            "       [0.026236  , 0.08637948, 0.03736508, 0.08237832, 0.02547326],\n",
            "       [0.05201843, 0.0537122 , 0.05083674, 0.05984711, 0.01677852],\n",
            "       [0.05729289, 0.07083604, 0.09539594, 0.02637441, 0.00365599],\n",
            "       [0.06058412, 0.07880475, 0.01658922, 0.06009896, 0.04235454],\n",
            "       [0.04644051, 0.01030208, 0.05551174, 0.01041713, 0.01706828],\n",
            "       [0.02049938, 0.00541065, 0.04529838, 0.0938515 , 0.05657964],\n",
            "       [0.03322833, 0.04754344, 0.05689406, 0.09793016, 0.02664156],\n",
            "       [0.00888926, 0.07330376, 0.06062777, 0.04508075, 0.04281696]],\n",
            "      dtype=float32)>, <tf.Variable 'Variable:0' shape=(5,) dtype=float32, numpy=array([0., 0., 0., 0., 0.], dtype=float32)>]\n"
          ]
        }
      ]
    },
    {
      "cell_type": "markdown",
      "metadata": {
        "id": "UdvjDLQW1VOo"
      },
      "source": [
        "#### A simple Sequential class"
      ]
    },
    {
      "cell_type": "code",
      "execution_count": 64,
      "metadata": {
        "id": "ehcNKnNg1VOo"
      },
      "outputs": [],
      "source": [
        "class NaiveSequential:\n",
        "    def __init__(self, layers):\n",
        "        self.layers = layers\n",
        "\n",
        "    def __call__(self, inputs):\n",
        "        x = inputs\n",
        "        # Iterate through each layer and pass the input through them sequentially\n",
        "        for layer in self.layers:\n",
        "            x = layer(x)\n",
        "        return x\n",
        "\n",
        "    @property\n",
        "    def weights(self):\n",
        "        weights = []\n",
        "        # Iterate through each layer to collect their weights\n",
        "        for layer in self.layers:\n",
        "            weights += layer.weights  # Append the weights of each layer to the weights list\n",
        "        return weights"
      ]
    },
    {
      "cell_type": "code",
      "execution_count": 65,
      "metadata": {
        "id": "2HSIRmqU1VOo"
      },
      "outputs": [],
      "source": [
        "# Creating an instance of NaiveSequential with two NaiveDense layers\n",
        "model = NaiveSequential([\n",
        "    NaiveDense(input_size=28 * 28, output_size=512, activation=tf.nn.relu),\n",
        "    NaiveDense(input_size=512, output_size=10, activation=tf.nn.softmax)\n",
        "])\n",
        "\n",
        "# Assertion to verify the number of weights in the model\n",
        "assert len(model.weights) == 4"
      ]
    },
    {
      "cell_type": "markdown",
      "metadata": {
        "id": "DW4zwGJF1VOo"
      },
      "source": [
        "#### A batch generator"
      ]
    },
    {
      "cell_type": "code",
      "execution_count": 66,
      "metadata": {
        "id": "lfPypFoR1VOp"
      },
      "outputs": [],
      "source": [
        "import math\n",
        "\n",
        "class BatchGenerator:\n",
        "    def __init__(self, images, labels, batch_size=128):\n",
        "        # Ensure images and labels have the same length\n",
        "        assert len(images) == len(labels)\n",
        "\n",
        "        # Initialize instance variables\n",
        "        self.index = 0           # Starting index for the batch\n",
        "        self.images = images     # List of images\n",
        "        self.labels = labels     # List of corresponding labels\n",
        "        self.batch_size = batch_size  # Size of each batch\n",
        "        self.num_batches = math.ceil(len(images) / batch_size)  # Calculate total number of batches\n",
        "\n",
        "    def next(self):\n",
        "        # Extract a batch of images and labels\n",
        "        images = self.images[self.index : self.index + self.batch_size]\n",
        "        labels = self.labels[self.index : self.index + self.batch_size]\n",
        "\n",
        "        # Move to the next batch by incrementing the index\n",
        "        self.index += self.batch_size\n",
        "\n",
        "        # Return the batch of images and labels\n",
        "        return images, labels"
      ]
    },
    {
      "cell_type": "markdown",
      "metadata": {
        "id": "Ac8j5LW71VOp"
      },
      "source": [
        "### Running one training step"
      ]
    },
    {
      "cell_type": "code",
      "execution_count": 67,
      "metadata": {
        "id": "b2rEl3PO1VOp"
      },
      "outputs": [],
      "source": [
        "def one_training_step(model, images_batch, labels_batch):\n",
        "    # Open a GradientTape to record operations for automatic differentiation\n",
        "    with tf.GradientTape() as tape:\n",
        "        # Forward pass: compute predictions\n",
        "        predictions = model(images_batch)\n",
        "\n",
        "        # Compute the per-sample losses using sparse categorical crossentropy\n",
        "        per_sample_losses = tf.keras.losses.sparse_categorical_crossentropy(labels_batch, predictions)\n",
        "\n",
        "        # Compute the average loss across the batch\n",
        "        average_loss = tf.reduce_mean(per_sample_losses)\n",
        "\n",
        "    # Calculate gradients of the average loss with respect to the model's weights\n",
        "    gradients = tape.gradient(average_loss, model.weights)\n",
        "\n",
        "    # Update the model's weights using the gradients (hypothetical function)\n",
        "    update_weights(gradients, model.weights)\n",
        "\n",
        "    # Return the average loss calculated for this training step\n",
        "    return average_loss"
      ]
    },
    {
      "cell_type": "code",
      "execution_count": 68,
      "metadata": {
        "id": "tIJ6B8D-1VOq"
      },
      "outputs": [],
      "source": [
        "learning_rate = 1e-3\n",
        "\n",
        "def update_weights(gradients, weights):\n",
        "    # Iterate through gradients and weights simultaneously\n",
        "    for g, w in zip(gradients, weights):\n",
        "        # Update each weight using gradient descent\n",
        "        w.assign_sub(g * learning_rate)"
      ]
    },
    {
      "cell_type": "code",
      "execution_count": 69,
      "metadata": {
        "id": "KNFS3R2T1VOq"
      },
      "outputs": [],
      "source": [
        "from tensorflow.keras import optimizers\n",
        "\n",
        "# Define an SGD optimizer with a specific learning rate\n",
        "optimizer = optimizers.SGD(learning_rate=1e-3)\n",
        "\n",
        "def update_weights(gradients, weights):\n",
        "    # Apply gradients to weights using the optimizer\n",
        "    optimizer.apply_gradients(zip(gradients, weights))"
      ]
    },
    {
      "cell_type": "markdown",
      "metadata": {
        "id": "JBDYFMh61VOq"
      },
      "source": [
        "### The full training loop"
      ]
    },
    {
      "cell_type": "code",
      "execution_count": 70,
      "metadata": {
        "id": "wozfhKhY1VOq"
      },
      "outputs": [],
      "source": [
        "def fit(model, images, labels, epochs, batch_size=128):\n",
        "    # Iterate over the specified number of epochs\n",
        "    for epoch_counter in range(epochs):\n",
        "        print(f\"Epoch {epoch_counter}\")\n",
        "\n",
        "        # Initialize a BatchGenerator for the current epoch\n",
        "        batch_generator = BatchGenerator(images, labels, batch_size)\n",
        "\n",
        "        # Iterate over batches in the current epoch\n",
        "        for batch_counter in range(batch_generator.num_batches):\n",
        "            # Generate the next batch of images and labels\n",
        "            images_batch, labels_batch = batch_generator.next()\n",
        "\n",
        "            # Perform one training step on the model using the current batch\n",
        "            loss = one_training_step(model, images_batch, labels_batch)\n",
        "\n",
        "            # Print loss periodically (every 100 batches)\n",
        "            if batch_counter % 100 == 0:\n",
        "                print(f\"loss at batch {batch_counter}: {loss:.2f}\")"
      ]
    },
    {
      "cell_type": "code",
      "execution_count": 71,
      "metadata": {
        "id": "cdermOBv1VOq",
        "outputId": "f31c2bfc-a5cf-490a-e89b-de2cb5ada82a",
        "colab": {
          "base_uri": "https://localhost:8080/"
        }
      },
      "outputs": [
        {
          "output_type": "stream",
          "name": "stdout",
          "text": [
            "Epoch 0\n",
            "loss at batch 0: 2.85\n",
            "loss at batch 100: 2.22\n",
            "loss at batch 200: 2.18\n",
            "loss at batch 300: 2.06\n",
            "loss at batch 400: 2.20\n",
            "Epoch 1\n",
            "loss at batch 0: 1.89\n",
            "loss at batch 100: 1.86\n",
            "loss at batch 200: 1.80\n",
            "loss at batch 300: 1.69\n",
            "loss at batch 400: 1.80\n",
            "Epoch 2\n",
            "loss at batch 0: 1.57\n",
            "loss at batch 100: 1.56\n",
            "loss at batch 200: 1.48\n",
            "loss at batch 300: 1.40\n",
            "loss at batch 400: 1.49\n",
            "Epoch 3\n",
            "loss at batch 0: 1.31\n",
            "loss at batch 100: 1.33\n",
            "loss at batch 200: 1.22\n",
            "loss at batch 300: 1.19\n",
            "loss at batch 400: 1.26\n",
            "Epoch 4\n",
            "loss at batch 0: 1.12\n",
            "loss at batch 100: 1.15\n",
            "loss at batch 200: 1.03\n",
            "loss at batch 300: 1.04\n",
            "loss at batch 400: 1.10\n",
            "Epoch 5\n",
            "loss at batch 0: 0.98\n",
            "loss at batch 100: 1.02\n",
            "loss at batch 200: 0.90\n",
            "loss at batch 300: 0.92\n",
            "loss at batch 400: 0.98\n",
            "Epoch 6\n",
            "loss at batch 0: 0.88\n",
            "loss at batch 100: 0.91\n",
            "loss at batch 200: 0.80\n",
            "loss at batch 300: 0.83\n",
            "loss at batch 400: 0.90\n",
            "Epoch 7\n",
            "loss at batch 0: 0.80\n",
            "loss at batch 100: 0.83\n",
            "loss at batch 200: 0.72\n",
            "loss at batch 300: 0.76\n",
            "loss at batch 400: 0.83\n",
            "Epoch 8\n",
            "loss at batch 0: 0.73\n",
            "loss at batch 100: 0.76\n",
            "loss at batch 200: 0.66\n",
            "loss at batch 300: 0.71\n",
            "loss at batch 400: 0.78\n",
            "Epoch 9\n",
            "loss at batch 0: 0.69\n",
            "loss at batch 100: 0.71\n",
            "loss at batch 200: 0.61\n",
            "loss at batch 300: 0.67\n",
            "loss at batch 400: 0.74\n"
          ]
        }
      ],
      "source": [
        "from tensorflow.keras.datasets import mnist\n",
        "\n",
        "# Load the MNIST dataset\n",
        "(train_images, train_labels), (test_images, test_labels) = mnist.load_data()\n",
        "\n",
        "# Reshape and normalize the training and test images\n",
        "train_images = train_images.reshape((60000, 28 * 28))\n",
        "train_images = train_images.astype(\"float32\") / 255\n",
        "test_images = test_images.reshape((10000, 28 * 28))\n",
        "test_images = test_images.astype(\"float32\") / 255\n",
        "\n",
        "# Assuming `model` is already defined as a NaiveSequential model with appropriate layers\n",
        "\n",
        "# Now, let's use the `fit` function with the loaded MNIST data\n",
        "fit(model, train_images, train_labels, epochs=10, batch_size=128)"
      ]
    },
    {
      "cell_type": "markdown",
      "metadata": {
        "id": "exAW6KCZ1VOq"
      },
      "source": [
        "### Evaluating the model"
      ]
    },
    {
      "cell_type": "code",
      "execution_count": 72,
      "metadata": {
        "id": "jOv4Vx_m1VOr",
        "outputId": "0c2befcf-2194-45ab-8990-2fa088b22b64",
        "colab": {
          "base_uri": "https://localhost:8080/"
        }
      },
      "outputs": [
        {
          "output_type": "stream",
          "name": "stdout",
          "text": [
            "accuracy: 0.81\n"
          ]
        }
      ],
      "source": [
        "# Make predictions on test images\n",
        "predictions = model(test_images)\n",
        "\n",
        "# Convert predictions tensor to NumPy array\n",
        "predictions = predictions.numpy()\n",
        "\n",
        "# Determine predicted labels by finding the index of the maximum value in each prediction array\n",
        "predicted_labels = np.argmax(predictions, axis=1)\n",
        "\n",
        "# Compare predicted labels with actual test labels to compute accuracy\n",
        "matches = predicted_labels == test_labels\n",
        "\n",
        "# Calculate and print the accuracy\n",
        "print(f\"accuracy: {matches.mean():.2f}\")\n"
      ]
    },
    {
      "cell_type": "markdown",
      "metadata": {
        "id": "gNnbVOc-1VOr"
      },
      "source": [
        "## Summary"
      ]
    }
  ],
  "metadata": {
    "colab": {
      "name": "chapter02_mathematical-building-blocks.i",
      "provenance": [],
      "toc_visible": true
    },
    "kernelspec": {
      "display_name": "Python 3",
      "language": "python",
      "name": "python3"
    },
    "language_info": {
      "codemirror_mode": {
        "name": "ipython",
        "version": 3
      },
      "file_extension": ".py",
      "mimetype": "text/x-python",
      "name": "python",
      "nbconvert_exporter": "python",
      "pygments_lexer": "ipython3",
      "version": "3.7.0"
    }
  },
  "nbformat": 4,
  "nbformat_minor": 0
}