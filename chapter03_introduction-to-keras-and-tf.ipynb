{
  "cells": [
    {
      "cell_type": "markdown",
      "metadata": {
        "id": "JJtWSYBR0y_Y"
      },
      "source": [
        "This is a companion notebook for the book [Deep Learning with Python, Second Edition](https://www.manning.com/books/deep-learning-with-python-second-edition?a_aid=keras&a_bid=76564dff). For readability, it only contains runnable code blocks and section titles, and omits everything else in the book: text paragraphs, figures, and pseudocode.\n",
        "\n",
        "**If you want to be able to follow what's going on, I recommend reading the notebook side by side with your copy of the book.**\n",
        "\n",
        "This notebook was generated for TensorFlow 2.6."
      ]
    },
    {
      "cell_type": "markdown",
      "metadata": {
        "id": "id6E7llS0y_b"
      },
      "source": [
        "# Introduction to Keras and TensorFlow"
      ]
    },
    {
      "cell_type": "markdown",
      "metadata": {
        "id": "ITlSBGFW0y_c"
      },
      "source": [
        "## What's TensorFlow?"
      ]
    },
    {
      "cell_type": "markdown",
      "metadata": {
        "id": "p4hd6O0e0y_c"
      },
      "source": [
        "## What's Keras?"
      ]
    },
    {
      "cell_type": "markdown",
      "metadata": {
        "id": "emdKs8Gv0y_d"
      },
      "source": [
        "## Keras and TensorFlow: A brief history"
      ]
    },
    {
      "cell_type": "markdown",
      "metadata": {
        "id": "J57wYJC00y_d"
      },
      "source": [
        "## Setting up a deep-learning workspace"
      ]
    },
    {
      "cell_type": "markdown",
      "metadata": {
        "id": "ntmaPPAD0y_d"
      },
      "source": [
        "### Jupyter notebooks: The preferred way to run deep-learning experiments"
      ]
    },
    {
      "cell_type": "markdown",
      "metadata": {
        "id": "uTB635CD0y_d"
      },
      "source": [
        "### Using Colaboratory"
      ]
    },
    {
      "cell_type": "markdown",
      "metadata": {
        "id": "_o7c70SI0y_d"
      },
      "source": [
        "#### First steps with Colaboratory"
      ]
    },
    {
      "cell_type": "markdown",
      "metadata": {
        "id": "xSFRvz4z0y_e"
      },
      "source": [
        "#### Installing packages with pip"
      ]
    },
    {
      "cell_type": "markdown",
      "metadata": {
        "id": "AXkikP1M0y_e"
      },
      "source": [
        "#### Using the GPU runtime"
      ]
    },
    {
      "cell_type": "markdown",
      "metadata": {
        "id": "pAX4ZlHj0y_e"
      },
      "source": [
        "## First steps with TensorFlow"
      ]
    },
    {
      "cell_type": "markdown",
      "metadata": {
        "id": "yjSdOHf30y_e"
      },
      "source": [
        "#### Constant tensors and variables"
      ]
    },
    {
      "cell_type": "markdown",
      "metadata": {
        "id": "l9jUQOE90y_e"
      },
      "source": [
        "**All-ones or all-zeros tensors**"
      ]
    },
    {
      "cell_type": "code",
      "execution_count": 1,
      "metadata": {
        "id": "xgDEH-BL0y_e",
        "outputId": "9d726bff-a57e-47c0-b50e-d98044de6c5c",
        "colab": {
          "base_uri": "https://localhost:8080/"
        }
      },
      "outputs": [
        {
          "output_type": "stream",
          "name": "stdout",
          "text": [
            "tf.Tensor(\n",
            "[[1.]\n",
            " [1.]], shape=(2, 1), dtype=float32)\n"
          ]
        }
      ],
      "source": [
        "import tensorflow as tf\n",
        "x = tf.ones(shape=(2, 1))\n",
        "print(x)"
      ]
    },
    {
      "cell_type": "code",
      "execution_count": 2,
      "metadata": {
        "id": "kgvzyFFA0y_f",
        "outputId": "96180e40-0811-4a94-d580-93263d2f4831",
        "colab": {
          "base_uri": "https://localhost:8080/"
        }
      },
      "outputs": [
        {
          "output_type": "stream",
          "name": "stdout",
          "text": [
            "tf.Tensor(\n",
            "[[0.]\n",
            " [0.]], shape=(2, 1), dtype=float32)\n"
          ]
        }
      ],
      "source": [
        "x = tf.zeros(shape=(2, 1))\n",
        "print(x)"
      ]
    },
    {
      "cell_type": "markdown",
      "metadata": {
        "id": "tRDyoCre0y_f"
      },
      "source": [
        "**Random tensors**"
      ]
    },
    {
      "cell_type": "code",
      "execution_count": 3,
      "metadata": {
        "id": "3Qm5GWH50y_f",
        "outputId": "9cb64b49-5bc2-4708-d3ae-66513339f800",
        "colab": {
          "base_uri": "https://localhost:8080/"
        }
      },
      "outputs": [
        {
          "output_type": "stream",
          "name": "stdout",
          "text": [
            "tf.Tensor(\n",
            "[[-0.8174472]\n",
            " [ 1.4840615]\n",
            " [ 1.1667522]], shape=(3, 1), dtype=float32)\n"
          ]
        }
      ],
      "source": [
        "x = tf.random.normal(shape=(3, 1), mean=0., stddev=1.)\n",
        "print(x)"
      ]
    },
    {
      "cell_type": "code",
      "execution_count": 4,
      "metadata": {
        "id": "dXlWvgGw0y_f",
        "outputId": "94fb0974-ade2-485b-9f79-9fd5d1619108",
        "colab": {
          "base_uri": "https://localhost:8080/"
        }
      },
      "outputs": [
        {
          "output_type": "stream",
          "name": "stdout",
          "text": [
            "tf.Tensor(\n",
            "[[0.01529825]\n",
            " [0.21628952]\n",
            " [0.88558376]], shape=(3, 1), dtype=float32)\n"
          ]
        }
      ],
      "source": [
        "x = tf.random.uniform(shape=(3, 1), minval=0., maxval=1.)\n",
        "print(x)"
      ]
    },
    {
      "cell_type": "markdown",
      "metadata": {
        "id": "vl5CWe8L0y_f"
      },
      "source": [
        "**NumPy arrays are assignable**"
      ]
    },
    {
      "cell_type": "code",
      "execution_count": 5,
      "metadata": {
        "id": "gYGAi9jo0y_g"
      },
      "outputs": [],
      "source": [
        "import numpy as np\n",
        "x = np.ones(shape=(2, 2))\n",
        "x[0, 0] = 0."
      ]
    },
    {
      "cell_type": "markdown",
      "metadata": {
        "id": "x1d56wv10y_g"
      },
      "source": [
        "**Creating a TensorFlow variable**"
      ]
    },
    {
      "cell_type": "code",
      "execution_count": 6,
      "metadata": {
        "id": "JZ4pr9ZE0y_g",
        "outputId": "30e0c7d8-93ef-4f98-9256-0a53463d886e",
        "colab": {
          "base_uri": "https://localhost:8080/"
        }
      },
      "outputs": [
        {
          "output_type": "stream",
          "name": "stdout",
          "text": [
            "<tf.Variable 'Variable:0' shape=(3, 1) dtype=float32, numpy=\n",
            "array([[-2.7314246 ],\n",
            "       [-0.29633927],\n",
            "       [-0.00324623]], dtype=float32)>\n"
          ]
        }
      ],
      "source": [
        "v = tf.Variable(initial_value=tf.random.normal(shape=(3, 1)))\n",
        "print(v)"
      ]
    },
    {
      "cell_type": "markdown",
      "metadata": {
        "id": "j4SLow2c0y_g"
      },
      "source": [
        "**Assigning a value to a TensorFlow variable**"
      ]
    },
    {
      "cell_type": "code",
      "execution_count": 7,
      "metadata": {
        "id": "U6xOBaES0y_g",
        "outputId": "91df351d-b921-4a0e-c244-d1f4f3c026ff",
        "colab": {
          "base_uri": "https://localhost:8080/"
        }
      },
      "outputs": [
        {
          "output_type": "execute_result",
          "data": {
            "text/plain": [
              "<tf.Variable 'UnreadVariable' shape=(3, 1) dtype=float32, numpy=\n",
              "array([[1.],\n",
              "       [1.],\n",
              "       [1.]], dtype=float32)>"
            ]
          },
          "metadata": {},
          "execution_count": 7
        }
      ],
      "source": [
        "v.assign(tf.ones((3, 1)))"
      ]
    },
    {
      "cell_type": "markdown",
      "metadata": {
        "id": "P2FKIArG0y_g"
      },
      "source": [
        "**Assigning a value to a subset of a TensorFlow variable**"
      ]
    },
    {
      "cell_type": "code",
      "execution_count": 8,
      "metadata": {
        "id": "dibK-MNB0y_g",
        "outputId": "9a5ab2af-1aa3-49fc-ab63-075ee83aa773",
        "colab": {
          "base_uri": "https://localhost:8080/"
        }
      },
      "outputs": [
        {
          "output_type": "execute_result",
          "data": {
            "text/plain": [
              "<tf.Variable 'UnreadVariable' shape=(3, 1) dtype=float32, numpy=\n",
              "array([[3.],\n",
              "       [1.],\n",
              "       [1.]], dtype=float32)>"
            ]
          },
          "metadata": {},
          "execution_count": 8
        }
      ],
      "source": [
        "v[0, 0].assign(3.)"
      ]
    },
    {
      "cell_type": "markdown",
      "metadata": {
        "id": "c82OJs190y_g"
      },
      "source": [
        "**Using `assign_add`**"
      ]
    },
    {
      "cell_type": "code",
      "execution_count": 9,
      "metadata": {
        "id": "fOYfRhad0y_g",
        "outputId": "a869949a-b795-4321-cde9-b215b5708c49",
        "colab": {
          "base_uri": "https://localhost:8080/"
        }
      },
      "outputs": [
        {
          "output_type": "execute_result",
          "data": {
            "text/plain": [
              "<tf.Variable 'UnreadVariable' shape=(3, 1) dtype=float32, numpy=\n",
              "array([[4.],\n",
              "       [2.],\n",
              "       [2.]], dtype=float32)>"
            ]
          },
          "metadata": {},
          "execution_count": 9
        }
      ],
      "source": [
        "v.assign_add(tf.ones((3, 1)))"
      ]
    },
    {
      "cell_type": "markdown",
      "metadata": {
        "id": "kWoHH2bd0y_h"
      },
      "source": [
        "#### Tensor operations: Doing math in TensorFlow"
      ]
    },
    {
      "cell_type": "markdown",
      "metadata": {
        "id": "odigFWzh0y_h"
      },
      "source": [
        "**A few basic math operations**"
      ]
    },
    {
      "cell_type": "code",
      "execution_count": 10,
      "metadata": {
        "id": "GpYoUTMF0y_h"
      },
      "outputs": [],
      "source": [
        "a = tf.ones((2, 2))\n",
        "b = tf.square(a)\n",
        "c = tf.sqrt(a)\n",
        "d = b + c\n",
        "e = tf.matmul(a, b)\n",
        "e *= d"
      ]
    },
    {
      "cell_type": "markdown",
      "metadata": {
        "id": "tFIJ31640y_h"
      },
      "source": [
        "#### A second look at the GradientTape API"
      ]
    },
    {
      "cell_type": "markdown",
      "metadata": {
        "id": "b21esrfV0y_h"
      },
      "source": [
        "**Using the `GradientTape`**"
      ]
    },
    {
      "cell_type": "code",
      "execution_count": 11,
      "metadata": {
        "id": "IGonVs8O0y_h",
        "outputId": "9309882c-4fc3-4abe-b46b-053f386200c5",
        "colab": {
          "base_uri": "https://localhost:8080/"
        }
      },
      "outputs": [
        {
          "output_type": "stream",
          "name": "stdout",
          "text": [
            "Result: 9.0, Gradient: 6.0\n"
          ]
        }
      ],
      "source": [
        "import tensorflow as tf\n",
        "\n",
        "# Create a TensorFlow variable with an initial value of 3.0\n",
        "input_var = tf.Variable(initial_value=3.0)\n",
        "\n",
        "# Open a GradientTape context to record operations for automatic differentiation\n",
        "with tf.GradientTape() as tape:\n",
        "    # Compute the square of input_var (result = input_var^2)\n",
        "    result = tf.square(input_var)\n",
        "\n",
        "'''Compute the gradient of `result` with respect to `input_var`\n",
        "The GradientTape context records the operations performed within it\n",
        "So we can use it to compute the gradient of the result with respect to input_var'''\n",
        "gradient = tape.gradient(result, input_var)\n",
        "\n",
        "# Print the result and the computed gradient\n",
        "print(f\"Result: {result.numpy()}, Gradient: {gradient.numpy()}\")\n"
      ]
    },
    {
      "cell_type": "markdown",
      "metadata": {
        "id": "EkgSnDR70y_h"
      },
      "source": [
        "**Using `GradientTape` with constant tensor inputs**"
      ]
    },
    {
      "cell_type": "code",
      "execution_count": 12,
      "metadata": {
        "id": "k4-NCUFW0y_h",
        "outputId": "8ee3575c-6a48-46fe-8181-283f0ad77555",
        "colab": {
          "base_uri": "https://localhost:8080/"
        }
      },
      "outputs": [
        {
          "output_type": "stream",
          "name": "stdout",
          "text": [
            "Result: 9.0, Gradient: 6.0\n"
          ]
        }
      ],
      "source": [
        "# Create a TensorFlow constant with a value of 3.0\n",
        "input_const = tf.constant(3.0)\n",
        "\n",
        "# Open a GradientTape context to record operations for automatic differentiation\n",
        "with tf.GradientTape() as tape:\n",
        "    # Manually instruct the GradientTape to watch the constant input_const\n",
        "    tape.watch(input_const)\n",
        "\n",
        "    # Compute the square of input_const (result = input_const^2)\n",
        "    result = tf.square(input_const)\n",
        "\n",
        "'''Compute the gradient of `result` with respect to `input_const`\n",
        "The GradientTape context records the operations performed within it\n",
        "So we can use it to compute the gradient of the result with respect to input_const'''\n",
        "gradient = tape.gradient(result, input_const)\n",
        "\n",
        "# Print the result and the computed gradient\n",
        "print(f\"Result: {result.numpy()}, Gradient: {gradient.numpy()}\")"
      ]
    },
    {
      "cell_type": "markdown",
      "metadata": {
        "id": "UnPhe6vS0y_i"
      },
      "source": [
        "**Using nested gradient tapes to compute second-order gradients**"
      ]
    },
    {
      "cell_type": "code",
      "execution_count": 13,
      "metadata": {
        "id": "SpBElhyD0y_i",
        "outputId": "b5ac3fb0-6d2f-4a80-bbe1-8da1d5331391",
        "colab": {
          "base_uri": "https://localhost:8080/"
        }
      },
      "outputs": [
        {
          "output_type": "stream",
          "name": "stdout",
          "text": [
            "Speed: 0.0, Acceleration: 9.800000190734863\n"
          ]
        }
      ],
      "source": [
        "# Create a TensorFlow variable with an initial value of 0.0\n",
        "time = tf.Variable(0.0)\n",
        "\n",
        "# Open an outer GradientTape context to record operations for second-order differentiation\n",
        "with tf.GradientTape() as outer_tape:\n",
        "    # Open an inner GradientTape context to record operations for first-order differentiation\n",
        "    with tf.GradientTape() as inner_tape:\n",
        "        # Compute the position based on the equation of motion for free fall under gravity\n",
        "        # position = 4.9 * time^2 (assuming g = 9.8 m/s^2, and 4.9 is half of g)\n",
        "        position =  4.9 * time ** 2\n",
        "\n",
        "    # Compute the gradient of `position` with respect to `time` (i.e., speed)\n",
        "    speed = inner_tape.gradient(position, time)\n",
        "\n",
        "# Compute the gradient of `speed` with respect to `time` (i.e., acceleration)\n",
        "acceleration = outer_tape.gradient(speed, time)\n",
        "\n",
        "# Print the computed speed and acceleration\n",
        "print(f\"Speed: {speed.numpy()}, Acceleration: {acceleration.numpy()}\")"
      ]
    },
    {
      "cell_type": "markdown",
      "metadata": {
        "id": "2NXnbyGd0y_m"
      },
      "source": [
        "#### An end-to-end example: A linear classifier in pure TensorFlow"
      ]
    },
    {
      "cell_type": "markdown",
      "metadata": {
        "id": "1nOqqDMa0y_m"
      },
      "source": [
        "**Generating two classes of random points in a 2D plane**"
      ]
    },
    {
      "cell_type": "code",
      "execution_count": 14,
      "metadata": {
        "id": "zUe5lHuJ0y_m"
      },
      "outputs": [],
      "source": [
        "# Define the number of samples to generate for each class\n",
        "num_samples_per_class = 1000\n",
        "\n",
        "# Generate negative samples from a multivariate normal distribution\n",
        "negative_samples = np.random.multivariate_normal(\n",
        "    mean=[0, 3],         # Mean of the distribution for negative samples\n",
        "    cov=[[1, 0.5],       # Covariance matrix for negative samples\n",
        "         [0.5, 1]],\n",
        "    size=num_samples_per_class)  # Number of samples to generate\n",
        "\n",
        "# Generate positive samples from a multivariate normal distribution\n",
        "positive_samples = np.random.multivariate_normal(\n",
        "    mean=[3, 0],         # Mean of the distribution for positive samples\n",
        "    cov=[[1, 0.5],       # Covariance matrix for positive samples\n",
        "         [0.5, 1]],\n",
        "    size=num_samples_per_class)  # Number of samples to generate"
      ]
    },
    {
      "cell_type": "markdown",
      "metadata": {
        "id": "l8Nz4RKd0y_m"
      },
      "source": [
        "**Stacking the two classes into an array with shape (2000, 2)**"
      ]
    },
    {
      "cell_type": "code",
      "execution_count": 15,
      "metadata": {
        "id": "nRAJkhzs0y_m"
      },
      "outputs": [],
      "source": [
        "'''Stack the negative and positive samples vertically. This combines the two sets of samples into a single array.\n",
        "Convert the combined array to float32 data type'''\n",
        "\n",
        "inputs = np.vstack((negative_samples, positive_samples)).astype(np.float32)"
      ]
    },
    {
      "cell_type": "markdown",
      "metadata": {
        "id": "9oTuajRa0y_m"
      },
      "source": [
        "**Generating the corresponding targets (0 and 1)**"
      ]
    },
    {
      "cell_type": "code",
      "execution_count": 16,
      "metadata": {
        "id": "5rQwMER20y_n"
      },
      "outputs": [],
      "source": [
        "'''Now, targets is a 2D NumPy array with shape (2 * num_samples_per_class, 1)\n",
        "The first num_samples_per_class rows are 0 (negative class)\n",
        "The next num_samples_per_class rows are 1 (positive class)'''\n",
        "\n",
        "targets = np.vstack((np.zeros((num_samples_per_class, 1), dtype=\"float32\"),\n",
        "                     np.ones((num_samples_per_class, 1), dtype=\"float32\")))"
      ]
    },
    {
      "cell_type": "markdown",
      "metadata": {
        "id": "mHBAF4Ss0y_n"
      },
      "source": [
        "**Plotting the two point classes**"
      ]
    },
    {
      "cell_type": "code",
      "execution_count": 17,
      "metadata": {
        "id": "gx-haQ850y_n",
        "outputId": "22ad186c-9f7e-415d-83bc-4b3e26afe7e4",
        "colab": {
          "base_uri": "https://localhost:8080/",
          "height": 430
        }
      },
      "outputs": [
        {
          "output_type": "display_data",
          "data": {
            "text/plain": [
              "<Figure size 640x480 with 1 Axes>"
            ],
            "image/png": "[encoded data removed]"
          },
          "metadata": {}
        }
      ],
      "source": [
        "import matplotlib.pyplot as plt\n",
        "\n",
        "'''Scatter plot of inputs, where inputs[:, 0] represents the x-axis values and inputs[:, 1] represents the y-axis values\n",
        "c=targets[:, 0] assigns colors to the points based on the target labels (0 or 1)'''\n",
        "plt.scatter(inputs[:, 0], inputs[:, 1], c=targets[:, 0])\n",
        "\n",
        "# Show the plot\n",
        "plt.show()\n"
      ]
    },
    {
      "cell_type": "markdown",
      "metadata": {
        "id": "TuRzEqry0y_n"
      },
      "source": [
        "**Creating the linear classifier variables**"
      ]
    },
    {
      "cell_type": "code",
      "execution_count": 18,
      "metadata": {
        "id": "XSYKZT4R0y_n"
      },
      "outputs": [],
      "source": [
        "# Define the dimensions for input and output layers\n",
        "input_dim = 2\n",
        "output_dim = 1\n",
        "\n",
        "# Initialize weights (W) using random uniform distribution\n",
        "W = tf.Variable(initial_value=tf.random.uniform(shape=(input_dim, output_dim)))\n",
        "\n",
        "# Initialize biases (b) with zeros\n",
        "b = tf.Variable(initial_value=tf.zeros(shape=(output_dim,)))\n"
      ]
    },
    {
      "cell_type": "markdown",
      "metadata": {
        "id": "I45B13GC0y_n"
      },
      "source": [
        "**The forward pass function**"
      ]
    },
    {
      "cell_type": "code",
      "execution_count": 19,
      "metadata": {
        "id": "CAoFaP7O0y_n"
      },
      "outputs": [],
      "source": [
        "def model(inputs):\n",
        "    return tf.matmul(inputs, W) + b"
      ]
    },
    {
      "cell_type": "markdown",
      "metadata": {
        "id": "F8yeNA1c0y_n"
      },
      "source": [
        "**The mean squared error loss function**"
      ]
    },
    {
      "cell_type": "code",
      "execution_count": 20,
      "metadata": {
        "id": "L2c3w9zN0y_o"
      },
      "outputs": [],
      "source": [
        "def square_loss(targets, predictions):\n",
        "    per_sample_losses = tf.square(targets - predictions)\n",
        "    return tf.reduce_mean(per_sample_losses)"
      ]
    },
    {
      "cell_type": "markdown",
      "metadata": {
        "id": "qDeIWA0r0y_o"
      },
      "source": [
        "**The training step function**"
      ]
    },
    {
      "cell_type": "code",
      "execution_count": 21,
      "metadata": {
        "id": "SFqRif_J0y_o"
      },
      "outputs": [],
      "source": [
        "# Learning rate for gradient descent optimization\n",
        "learning_rate = 0.1\n",
        "\n",
        "# Define the training step function\n",
        "def training_step(inputs, targets):\n",
        "    # Use a gradient tape to record gradients\n",
        "    with tf.GradientTape() as tape:\n",
        "        # Get predictions from the model\n",
        "        predictions = model(inputs)\n",
        "        # Calculate loss using the defined square loss function\n",
        "        loss = square_loss(targets, predictions)\n",
        "\n",
        "    # Calculate gradients of loss with respect to W and b\n",
        "    grad_loss_wrt_W, grad_loss_wrt_b = tape.gradient(loss, [W, b])\n",
        "\n",
        "    # Update weights W and biases b using gradient descent\n",
        "    W.assign_sub(grad_loss_wrt_W * learning_rate)\n",
        "    b.assign_sub(grad_loss_wrt_b * learning_rate)\n",
        "\n",
        "    # Return the calculated loss for this training step\n",
        "    return loss"
      ]
    },
    {
      "cell_type": "markdown",
      "metadata": {
        "id": "axlDbIqj0y_o"
      },
      "source": [
        "**The batch training loop**"
      ]
    },
    {
      "cell_type": "code",
      "execution_count": 22,
      "metadata": {
        "id": "8pNJ8KlT0y_o",
        "outputId": "e9a452f0-45d8-4fd4-bfd7-3d8aa620b913",
        "colab": {
          "base_uri": "https://localhost:8080/"
        }
      },
      "outputs": [
        {
          "output_type": "stream",
          "name": "stdout",
          "text": [
            "Loss at step 0: 6.2392\n",
            "Loss at step 1: 0.8780\n",
            "Loss at step 2: 0.2585\n",
            "Loss at step 3: 0.1639\n",
            "Loss at step 4: 0.1415\n",
            "Loss at step 5: 0.1299\n",
            "Loss at step 6: 0.1204\n",
            "Loss at step 7: 0.1120\n",
            "Loss at step 8: 0.1043\n",
            "Loss at step 9: 0.0973\n",
            "Loss at step 10: 0.0909\n",
            "Loss at step 11: 0.0851\n",
            "Loss at step 12: 0.0798\n",
            "Loss at step 13: 0.0750\n",
            "Loss at step 14: 0.0705\n",
            "Loss at step 15: 0.0665\n",
            "Loss at step 16: 0.0629\n",
            "Loss at step 17: 0.0595\n",
            "Loss at step 18: 0.0565\n",
            "Loss at step 19: 0.0537\n",
            "Loss at step 20: 0.0512\n",
            "Loss at step 21: 0.0488\n",
            "Loss at step 22: 0.0467\n",
            "Loss at step 23: 0.0448\n",
            "Loss at step 24: 0.0431\n",
            "Loss at step 25: 0.0415\n",
            "Loss at step 26: 0.0400\n",
            "Loss at step 27: 0.0387\n",
            "Loss at step 28: 0.0375\n",
            "Loss at step 29: 0.0364\n",
            "Loss at step 30: 0.0354\n",
            "Loss at step 31: 0.0345\n",
            "Loss at step 32: 0.0336\n",
            "Loss at step 33: 0.0329\n",
            "Loss at step 34: 0.0322\n",
            "Loss at step 35: 0.0315\n",
            "Loss at step 36: 0.0310\n",
            "Loss at step 37: 0.0304\n",
            "Loss at step 38: 0.0299\n",
            "Loss at step 39: 0.0295\n"
          ]
        }
      ],
      "source": [
        "for step in range(40):\n",
        "    # Perform one training step and retrieve the loss\n",
        "    loss = training_step(inputs, targets)\n",
        "\n",
        "    # Print the loss for monitoring purposes\n",
        "    print(f\"Loss at step {step}: {loss:.4f}\")"
      ]
    },
    {
      "cell_type": "code",
      "execution_count": 38,
      "metadata": {
        "id": "du42_cBX0y_o",
        "outputId": "55783bbc-2c0f-4905-ca05-38069809bd80",
        "colab": {
          "base_uri": "https://localhost:8080/",
          "height": 430
        }
      },
      "outputs": [
        {
          "output_type": "display_data",
          "data": {
            "text/plain": [
              "<Figure size 640x480 with 1 Axes>"
            ],
            "image/png": "[encoded data removed]"
          },
          "metadata": {}
        }
      ],
      "source": [
        "import matplotlib.pyplot as plt\n",
        "\n",
        "# Get predictions from the model\n",
        "predictions = model(inputs)\n",
        "\n",
        "# Create a scatter plot\n",
        "plt.scatter(inputs[:, 0], inputs[:, 1], c=predictions[:, 0] > 0.5)\n",
        "\n",
        "# Show the plot\n",
        "plt.show()"
      ]
    },
    {
      "cell_type": "code",
      "execution_count": 39,
      "metadata": {
        "id": "taJ4l-Vk0y_o",
        "outputId": "a5645ccf-3efd-459d-ea05-5259785c2e4b",
        "colab": {
          "base_uri": "https://localhost:8080/",
          "height": 447
        }
      },
      "outputs": [
        {
          "output_type": "execute_result",
          "data": {
            "text/plain": [
              "<matplotlib.collections.PathCollection at 0x7e74ade38940>"
            ]
          },
          "metadata": {},
          "execution_count": 39
        },
        {
          "output_type": "display_data",
          "data": {
            "text/plain": [
              "<Figure size 640x480 with 1 Axes>"
            ],
            "image/png": "[encoded data removed]"
          },
          "metadata": {}
        }
      ],
      "source": [
        "# Define x values for plotting the decision boundary\n",
        "x = np.linspace(-1, 4, 100)\n",
        "\n",
        "# Compute y values for the decision boundary using the formula of a linear separator\n",
        "# Assuming W is a 2x1 matrix and b is a scalar for a linear model\n",
        "# y = - W[0] / W[1] * x + (0.5 - b) / W[1]\n",
        "y = - W[0] / W[1] * x + (0.5 - b) / W[1]\n",
        "\n",
        "# Plot the decision boundary as a red line\n",
        "plt.plot(x, y, \"-r\", label=\"Decision Boundary\")\n",
        "\n",
        "# Scatter plot of the input data points colored by predictions\n",
        "plt.scatter(inputs[:, 0], inputs[:, 1], c=predictions[:, 0] > 0.5)"
      ]
    },
    {
      "cell_type": "markdown",
      "metadata": {
        "id": "dIitdi9Y0y_o"
      },
      "source": [
        "## Anatomy of a neural network: Understanding core Keras APIs"
      ]
    },
    {
      "cell_type": "markdown",
      "metadata": {
        "id": "fzJU7fV50y_o"
      },
      "source": [
        "### Layers: The building blocks of deep learning"
      ]
    },
    {
      "cell_type": "markdown",
      "metadata": {
        "id": "qLbDL9sr0y_p"
      },
      "source": [
        "#### The base Layer class in Keras"
      ]
    },
    {
      "cell_type": "markdown",
      "metadata": {
        "id": "fi0oVuW70y_p"
      },
      "source": [
        "**A `Dense` layer implemented as a `Layer` subclass**"
      ]
    },
    {
      "cell_type": "code",
      "execution_count": 25,
      "metadata": {
        "id": "4ElurHAT0y_p"
      },
      "outputs": [],
      "source": [
        "from tensorflow import keras\n",
        "import tensorflow as tf\n",
        "\n",
        "# Define a custom Keras layer named SimpleDense\n",
        "class SimpleDense(keras.layers.Layer):\n",
        "\n",
        "    def __init__(self, units, activation=None): # by default, no activation function will be applied to the output of the layer which allows the user to choose activation funct\n",
        "\n",
        "        # Call the parent class constructor - This makes sure the base class (keras.layers.Layer) is set up correctly\n",
        "        super().__init__()\n",
        "        # Store the number of units (neurons) for this layer\n",
        "        self.units = units\n",
        "        # Store the activation function if provided\n",
        "        self.activation = activation\n",
        "\n",
        "    # This method will be called once to create the layer's weights\n",
        "    def build(self, input_shape):\n",
        "        # Get the dimension of the input features\n",
        "        input_dim = input_shape[-1]\n",
        "        # Create and initialize the weight matrix W with random normal values\n",
        "        self.W = self.add_weight(shape=(input_dim, self.units),\n",
        "                                 initializer=\"random_normal\")\n",
        "        # Create and initialize the bias vector b with zeros\n",
        "        self.b = self.add_weight(shape=(self.units,),\n",
        "                                 initializer=\"zeros\")\n",
        "\n",
        "    # This method defines the forward pass of the layer\n",
        "    def call(self, inputs):\n",
        "        # Compute the linear transformation\n",
        "        y = tf.matmul(inputs, self.W) + self.b\n",
        "        # Apply the activation function if one is specified\n",
        "        if self.activation is not None:\n",
        "            y = self.activation(y)\n",
        "        # Return the output\n",
        "        return y"
      ]
    },
    {
      "cell_type": "code",
      "execution_count": 40,
      "metadata": {
        "id": "J8LUrh2q0y_p",
        "outputId": "c439869f-37c8-4d9f-cc98-014a67fb40d0",
        "colab": {
          "base_uri": "https://localhost:8080/"
        }
      },
      "outputs": [
        {
          "output_type": "stream",
          "name": "stdout",
          "text": [
            "(2, 32)\n"
          ]
        }
      ],
      "source": [
        "my_dense = SimpleDense(units=32, activation=tf.nn.relu)\n",
        "input_tensor = tf.ones(shape=(2, 784))\n",
        "output_tensor = my_dense(input_tensor)\n",
        "print(output_tensor.shape)"
      ]
    },
    {
      "cell_type": "markdown",
      "metadata": {
        "id": "07O9cljI0y_p"
      },
      "source": [
        "#### Automatic shape inference: Building layers on the fly"
      ]
    },
    {
      "cell_type": "code",
      "execution_count": 27,
      "metadata": {
        "id": "BRBivgra0y_p"
      },
      "outputs": [],
      "source": [
        "from tensorflow.keras import layers\n",
        "layer = layers.Dense(32, activation=\"relu\")"
      ]
    },
    {
      "cell_type": "code",
      "execution_count": 41,
      "metadata": {
        "id": "zRu03Rs70y_p"
      },
      "outputs": [],
      "source": [
        "from tensorflow.keras import models\n",
        "from tensorflow.keras import layers\n",
        "\n",
        "# Create a Sequential model\n",
        "model = models.Sequential([\n",
        "    # Add a Dense layer with 32 units and ReLU activation function\n",
        "    layers.Dense(32, activation=\"relu\"),\n",
        "\n",
        "    # Add another Dense layer with 32 units (default activation is linear)\n",
        "    layers.Dense(32)\n",
        "])"
      ]
    },
    {
      "cell_type": "code",
      "execution_count": 42,
      "metadata": {
        "id": "NBosKv4G0y_p"
      },
      "outputs": [],
      "source": [
        "from tensorflow.keras import Sequential\n",
        "\n",
        "# SimpleDense is a custom layer defined earlier\n",
        "model = Sequential([\n",
        "    SimpleDense(32, activation=\"relu\"),   # First hidden layer with 32 neurons and ReLU activation\n",
        "    SimpleDense(64, activation=\"relu\"),   # Second hidden layer with 64 neurons and ReLU activation\n",
        "    SimpleDense(32, activation=\"relu\"),   # Third hidden layer with 32 neurons and ReLU activation\n",
        "    SimpleDense(10, activation=\"softmax\") # Output layer with 10 neurons and softmax activation\n",
        "])\n"
      ]
    },
    {
      "cell_type": "markdown",
      "metadata": {
        "id": "TwXdIvs10y_p"
      },
      "source": [
        "### From layers to models"
      ]
    },
    {
      "cell_type": "markdown",
      "metadata": {
        "id": "hEszsmB40y_q"
      },
      "source": [
        "### The \"compile\" step: Configuring the learning process"
      ]
    },
    {
      "cell_type": "code",
      "execution_count": 43,
      "metadata": {
        "id": "NG_R0t970y_q"
      },
      "outputs": [],
      "source": [
        "# Defining a Sequential model in Keras\n",
        "model = keras.Sequential([\n",
        "    keras.layers.Dense(1)  # Adding a dense layer with 1 unit (neuron)\n",
        "])\n",
        "\n",
        "# Compiling the model with specified optimizer, loss function, and metrics\n",
        "model.compile(\n",
        "    optimizer=\"rmsprop\",  # Using RMSprop optimizer\n",
        "    loss=\"mean_squared_error\",  # Mean squared error loss function\n",
        "    metrics=[\"accuracy\"]  # Evaluating model accuracy as a metric\n",
        ")"
      ]
    },
    {
      "cell_type": "markdown",
      "source": [
        "*Offers more flexibility and control over the optimizer, loss\n",
        "function, and metrics because they are instantiated as objects. This allows for customization of parameters and easy integration of custom functions if needed.*"
      ],
      "metadata": {
        "id": "f8VLB9M-rAN5"
      }
    },
    {
      "cell_type": "code",
      "execution_count": 44,
      "metadata": {
        "id": "ehgl2Xin0y_q"
      },
      "outputs": [],
      "source": [
        "# Importing necessary libraries\n",
        "import tensorflow.keras as keras\n",
        "\n",
        "# Defining the model and compiling it\n",
        "model.compile(\n",
        "    optimizer=keras.optimizers.RMSprop(),  # Using RMSprop optimizer with default parameters\n",
        "    loss=keras.losses.MeanSquaredError(),  # Mean squared error loss function\n",
        "    metrics=[keras.metrics.BinaryAccuracy()]  # Binary accuracy metric for evaluation\n",
        ")"
      ]
    },
    {
      "cell_type": "markdown",
      "metadata": {
        "id": "KNVyr6Mu0y_q"
      },
      "source": [
        "### Picking a loss function"
      ]
    },
    {
      "cell_type": "markdown",
      "metadata": {
        "id": "muKtnsHT0y_q"
      },
      "source": [
        "### Understanding the fit() method"
      ]
    },
    {
      "cell_type": "markdown",
      "metadata": {
        "id": "BQmvyh6N0y_q"
      },
      "source": [
        "**Calling `fit()` with NumPy data**"
      ]
    },
    {
      "cell_type": "code",
      "execution_count": 50,
      "metadata": {
        "id": "WHec_BdU0y_q",
        "outputId": "ea900e40-13b7-47f1-fc17-6081cb088564",
        "colab": {
          "base_uri": "https://localhost:8080/"
        }
      },
      "outputs": [
        {
          "output_type": "stream",
          "name": "stdout",
          "text": [
            "Epoch 1/5\n",
            "16/16 [==============================] - 0s 4ms/step - loss: 13.2872 - binary_accuracy: 0.5115\n",
            "Epoch 2/5\n",
            "16/16 [==============================] - 0s 4ms/step - loss: 12.8024 - binary_accuracy: 0.5130\n",
            "Epoch 3/5\n",
            "16/16 [==============================] - 0s 3ms/step - loss: 12.3301 - binary_accuracy: 0.5130\n",
            "Epoch 4/5\n",
            "16/16 [==============================] - 0s 3ms/step - loss: 11.8604 - binary_accuracy: 0.5125\n",
            "Epoch 5/5\n",
            "16/16 [==============================] - 0s 4ms/step - loss: 11.4023 - binary_accuracy: 0.5120\n"
          ]
        }
      ],
      "source": [
        "history = model.fit(\n",
        "    inputs,          # Training data (inputs)\n",
        "    targets,         # Training targets (desired outputs)\n",
        "    epochs=5,        # Number of epochs (iterations over the entire dataset)\n",
        "    batch_size=128  # Number of samples per gradient update - During each epoch, the model updates its weights after processing a batch of 128 samples\n",
        ")"
      ]
    },
    {
      "cell_type": "code",
      "execution_count": 33,
      "metadata": {
        "id": "I6o9AMT00y_q",
        "outputId": "e3f23f72-d2e7-4023-ac86-169d2e0a88e4",
        "colab": {
          "base_uri": "https://localhost:8080/"
        }
      },
      "outputs": [
        {
          "output_type": "execute_result",
          "data": {
            "text/plain": [
              "{'loss': [13.380784034729004,\n",
              "  12.807146072387695,\n",
              "  12.31881046295166,\n",
              "  11.85517406463623,\n",
              "  11.397427558898926],\n",
              " 'binary_accuracy': [0.5055000185966492,\n",
              "  0.5055000185966492,\n",
              "  0.5049999952316284,\n",
              "  0.5065000057220459,\n",
              "  0.5065000057220459]}"
            ]
          },
          "metadata": {},
          "execution_count": 33
        }
      ],
      "source": [
        "history.history"
      ]
    },
    {
      "cell_type": "markdown",
      "metadata": {
        "id": "QD1KOPXR0y_q"
      },
      "source": [
        "### Monitoring loss and metrics on validation data"
      ]
    },
    {
      "cell_type": "markdown",
      "metadata": {
        "id": "NLNTOZni0y_q"
      },
      "source": [
        "**Using the `validation_data` argument**"
      ]
    },
    {
      "cell_type": "code",
      "execution_count": 51,
      "metadata": {
        "id": "vpR8Bymy0y_r",
        "outputId": "e054574c-b8a2-4376-f417-0efe8706caed",
        "colab": {
          "base_uri": "https://localhost:8080/"
        }
      },
      "outputs": [
        {
          "output_type": "stream",
          "name": "stdout",
          "text": [
            "Epoch 1/5\n",
            "88/88 [==============================] - 1s 8ms/step - loss: 0.3047 - binary_accuracy: 0.9793 - val_loss: 0.0748 - val_binary_accuracy: 0.9700\n",
            "Epoch 2/5\n",
            "88/88 [==============================] - 1s 7ms/step - loss: 0.0781 - binary_accuracy: 0.9550 - val_loss: 0.0767 - val_binary_accuracy: 0.9283\n",
            "Epoch 3/5\n",
            "88/88 [==============================] - 1s 7ms/step - loss: 0.0703 - binary_accuracy: 0.9600 - val_loss: 0.1684 - val_binary_accuracy: 0.9283\n",
            "Epoch 4/5\n",
            "88/88 [==============================] - 0s 3ms/step - loss: 0.0826 - binary_accuracy: 0.9414 - val_loss: 0.1008 - val_binary_accuracy: 0.9617\n",
            "Epoch 5/5\n",
            "88/88 [==============================] - 0s 3ms/step - loss: 0.0678 - binary_accuracy: 0.9586 - val_loss: 0.0549 - val_binary_accuracy: 0.9883\n"
          ]
        }
      ],
      "source": [
        "# Importing necessary libraries\n",
        "import tensorflow.keras as keras\n",
        "import numpy as np\n",
        "\n",
        "# Defining a Sequential model in Keras\n",
        "model = keras.Sequential([\n",
        "    keras.layers.Dense(1)  # Adding a dense layer with 1 unit (neuron)\n",
        "])\n",
        "\n",
        "# Compiling the model with specified optimizer, loss function, and metrics\n",
        "model.compile(\n",
        "    optimizer=keras.optimizers.RMSprop(learning_rate=0.1),  # Using RMSprop optimizer with a learning rate of 0.1\n",
        "    loss=keras.losses.MeanSquaredError(),  # Mean squared error loss function\n",
        "    metrics=[keras.metrics.BinaryAccuracy()]  # Binary accuracy metric for evaluation\n",
        ")\n",
        "\n",
        "# Shuffling the dataset to ensure random distribution of samples\n",
        "indices_permutation = np.random.permutation(len(inputs))  # Getting a random permutation of indices\n",
        "shuffled_inputs = inputs[indices_permutation]  # Shuffling inputs according to the random permutation of indices\n",
        "shuffled_targets = targets[indices_permutation]  # Shuffling targets accordingly\n",
        "\n",
        "# Splitting the dataset into training and validation sets\n",
        "num_validation_samples = int(0.3 * len(inputs))  # 30% of the data for validation\n",
        "val_inputs = shuffled_inputs[:num_validation_samples]  # First 30% for validation inputs\n",
        "val_targets = shuffled_targets[:num_validation_samples]  # First 30% for validation targets\n",
        "training_inputs = shuffled_inputs[num_validation_samples:]  # Remaining 70% for training inputs\n",
        "training_targets = shuffled_targets[num_validation_samples:]  # Remaining 70% for training targets\n",
        "\n",
        "# Training the model\n",
        "history = model.fit(\n",
        "    training_inputs,  # Training data (inputs)\n",
        "    training_targets,  # Training targets (desired outputs)\n",
        "    epochs=5,  # Number of epochs (iterations over the entire dataset)\n",
        "    batch_size=16,  # Number of samples per gradient update\n",
        "    validation_data=(val_inputs, val_targets)  # Validation data for evaluating model performance\n",
        ")\n"
      ]
    },
    {
      "cell_type": "markdown",
      "metadata": {
        "id": "lDQYmn-B0y_r"
      },
      "source": [
        "### Inference: Using a model after training"
      ]
    },
    {
      "cell_type": "code",
      "execution_count": 52,
      "metadata": {
        "id": "43F4XHte0y_r",
        "outputId": "d936e883-36a7-43e8-b946-83971cba805b",
        "colab": {
          "base_uri": "https://localhost:8080/"
        }
      },
      "outputs": [
        {
          "output_type": "stream",
          "name": "stdout",
          "text": [
            "5/5 [==============================] - 0s 2ms/step\n",
            "[[ 0.5531517 ]\n",
            " [ 0.6724851 ]\n",
            " [-0.338161  ]\n",
            " [-0.16451836]\n",
            " [ 0.03017277]\n",
            " [ 0.21310377]\n",
            " [-0.38256603]\n",
            " [ 1.0285976 ]\n",
            " [ 1.0909903 ]\n",
            " [-0.31987053]]\n"
          ]
        }
      ],
      "source": [
        "# Making predictions on the validation data\n",
        "predictions = model.predict(\n",
        "    val_inputs,  # Validation inputs on which predictions are to be made\n",
        "    batch_size=128  # Batch size used for making predictions\n",
        ")\n",
        "\n",
        "# Printing the first 10 predictions\n",
        "print(predictions[:10])"
      ]
    },
    {
      "cell_type": "markdown",
      "metadata": {
        "id": "I6rL9kMg0y_r"
      },
      "source": [
        "## Summary"
      ]
    },
    {
      "cell_type": "code",
      "source": [],
      "metadata": {
        "id": "8c5_UnF6eMWi"
      },
      "execution_count": 35,
      "outputs": []
    }
  ],
  "metadata": {
    "colab": {
      "name": "chapter03_introduction-to-keras-and-tf.i",
      "provenance": [],
      "toc_visible": true,
      "gpuType": "T4"
    },
    "kernelspec": {
      "display_name": "Python 3",
      "name": "python3"
    },
    "language_info": {
      "codemirror_mode": {
        "name": "ipython",
        "version": 3
      },
      "file_extension": ".py",
      "mimetype": "text/x-python",
      "name": "python",
      "nbconvert_exporter": "python",
      "pygments_lexer": "ipython3",
      "version": "3.7.0"
    },
    "accelerator": "GPU"
  },
  "nbformat": 4,
  "nbformat_minor": 0
}